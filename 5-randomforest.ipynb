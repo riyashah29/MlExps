{
  "nbformat": 4,
  "nbformat_minor": 0,
  "metadata": {
    "colab": {
      "provenance": [],
      "authorship_tag": "ABX9TyOg5L4IqAklviSZk1codc4h",
      "include_colab_link": true
    },
    "kernelspec": {
      "name": "python3",
      "display_name": "Python 3"
    },
    "language_info": {
      "name": "python"
    }
  },
  "cells": [
    {
      "cell_type": "markdown",
      "metadata": {
        "id": "view-in-github",
        "colab_type": "text"
      },
      "source": [
        "<a href=\"https://colab.research.google.com/github/riyashah29/MlExps/blob/main/5-randomforest.ipynb\" target=\"_parent\"><img src=\"https://colab.research.google.com/assets/colab-badge.svg\" alt=\"Open In Colab\"/></a>"
      ]
    },
    {
      "cell_type": "markdown",
      "source": [
        "Name:Riya Shah    \n",
        "Roll No.: D085  \n",
        "SAP ID: 60009230017  \n",
        "Branch: CSE DS-2-1"
      ],
      "metadata": {
        "id": "WzGsNFVEx7KE"
      }
    },
    {
      "cell_type": "markdown",
      "source": [
        " Aim:Implement Random Forest algorithm on given datasets and compare the results with Decision Tree classifiers for the same datasets."
      ],
      "metadata": {
        "id": "fM6r1Qr_x9MF"
      }
    },
    {
      "cell_type": "code",
      "source": [
        "import pandas as pd\n",
        "from sklearn.tree import DecisionTreeClassifier\n",
        "from sklearn.model_selection import train_test_split\n",
        "from sklearn import metrics"
      ],
      "metadata": {
        "id": "LCEFxhC_Unk8"
      },
      "execution_count": null,
      "outputs": []
    },
    {
      "cell_type": "code",
      "execution_count": null,
      "metadata": {
        "colab": {
          "base_uri": "https://localhost:8080/",
          "height": 206
        },
        "id": "sIm9mHlhSwU1",
        "outputId": "f0a5e814-2d7b-428e-f389-75c6b4dd619f"
      },
      "outputs": [
        {
          "output_type": "execute_result",
          "data": {
            "text/plain": [
              "   Id  SepalLengthCm  SepalWidthCm  PetalLengthCm  PetalWidthCm      Species\n",
              "0   1            5.1           3.5            1.4           0.2  Iris-setosa\n",
              "1   2            4.9           3.0            1.4           0.2  Iris-setosa\n",
              "2   3            4.7           3.2            1.3           0.2  Iris-setosa\n",
              "3   4            4.6           3.1            1.5           0.2  Iris-setosa\n",
              "4   5            5.0           3.6            1.4           0.2  Iris-setosa"
            ],
            "text/html": [
              "\n",
              "  <div id=\"df-2cd80669-4caf-4ac0-b136-7a8af7869385\" class=\"colab-df-container\">\n",
              "    <div>\n",
              "<style scoped>\n",
              "    .dataframe tbody tr th:only-of-type {\n",
              "        vertical-align: middle;\n",
              "    }\n",
              "\n",
              "    .dataframe tbody tr th {\n",
              "        vertical-align: top;\n",
              "    }\n",
              "\n",
              "    .dataframe thead th {\n",
              "        text-align: right;\n",
              "    }\n",
              "</style>\n",
              "<table border=\"1\" class=\"dataframe\">\n",
              "  <thead>\n",
              "    <tr style=\"text-align: right;\">\n",
              "      <th></th>\n",
              "      <th>Id</th>\n",
              "      <th>SepalLengthCm</th>\n",
              "      <th>SepalWidthCm</th>\n",
              "      <th>PetalLengthCm</th>\n",
              "      <th>PetalWidthCm</th>\n",
              "      <th>Species</th>\n",
              "    </tr>\n",
              "  </thead>\n",
              "  <tbody>\n",
              "    <tr>\n",
              "      <th>0</th>\n",
              "      <td>1</td>\n",
              "      <td>5.1</td>\n",
              "      <td>3.5</td>\n",
              "      <td>1.4</td>\n",
              "      <td>0.2</td>\n",
              "      <td>Iris-setosa</td>\n",
              "    </tr>\n",
              "    <tr>\n",
              "      <th>1</th>\n",
              "      <td>2</td>\n",
              "      <td>4.9</td>\n",
              "      <td>3.0</td>\n",
              "      <td>1.4</td>\n",
              "      <td>0.2</td>\n",
              "      <td>Iris-setosa</td>\n",
              "    </tr>\n",
              "    <tr>\n",
              "      <th>2</th>\n",
              "      <td>3</td>\n",
              "      <td>4.7</td>\n",
              "      <td>3.2</td>\n",
              "      <td>1.3</td>\n",
              "      <td>0.2</td>\n",
              "      <td>Iris-setosa</td>\n",
              "    </tr>\n",
              "    <tr>\n",
              "      <th>3</th>\n",
              "      <td>4</td>\n",
              "      <td>4.6</td>\n",
              "      <td>3.1</td>\n",
              "      <td>1.5</td>\n",
              "      <td>0.2</td>\n",
              "      <td>Iris-setosa</td>\n",
              "    </tr>\n",
              "    <tr>\n",
              "      <th>4</th>\n",
              "      <td>5</td>\n",
              "      <td>5.0</td>\n",
              "      <td>3.6</td>\n",
              "      <td>1.4</td>\n",
              "      <td>0.2</td>\n",
              "      <td>Iris-setosa</td>\n",
              "    </tr>\n",
              "  </tbody>\n",
              "</table>\n",
              "</div>\n",
              "    <div class=\"colab-df-buttons\">\n",
              "\n",
              "  <div class=\"colab-df-container\">\n",
              "    <button class=\"colab-df-convert\" onclick=\"convertToInteractive('df-2cd80669-4caf-4ac0-b136-7a8af7869385')\"\n",
              "            title=\"Convert this dataframe to an interactive table.\"\n",
              "            style=\"display:none;\">\n",
              "\n",
              "  <svg xmlns=\"http://www.w3.org/2000/svg\" height=\"24px\" viewBox=\"0 -960 960 960\">\n",
              "    <path d=\"M120-120v-720h720v720H120Zm60-500h600v-160H180v160Zm220 220h160v-160H400v160Zm0 220h160v-160H400v160ZM180-400h160v-160H180v160Zm440 0h160v-160H620v160ZM180-180h160v-160H180v160Zm440 0h160v-160H620v160Z\"/>\n",
              "  </svg>\n",
              "    </button>\n",
              "\n",
              "  <style>\n",
              "    .colab-df-container {\n",
              "      display:flex;\n",
              "      gap: 12px;\n",
              "    }\n",
              "\n",
              "    .colab-df-convert {\n",
              "      background-color: #E8F0FE;\n",
              "      border: none;\n",
              "      border-radius: 50%;\n",
              "      cursor: pointer;\n",
              "      display: none;\n",
              "      fill: #1967D2;\n",
              "      height: 32px;\n",
              "      padding: 0 0 0 0;\n",
              "      width: 32px;\n",
              "    }\n",
              "\n",
              "    .colab-df-convert:hover {\n",
              "      background-color: #E2EBFA;\n",
              "      box-shadow: 0px 1px 2px rgba(60, 64, 67, 0.3), 0px 1px 3px 1px rgba(60, 64, 67, 0.15);\n",
              "      fill: #174EA6;\n",
              "    }\n",
              "\n",
              "    .colab-df-buttons div {\n",
              "      margin-bottom: 4px;\n",
              "    }\n",
              "\n",
              "    [theme=dark] .colab-df-convert {\n",
              "      background-color: #3B4455;\n",
              "      fill: #D2E3FC;\n",
              "    }\n",
              "\n",
              "    [theme=dark] .colab-df-convert:hover {\n",
              "      background-color: #434B5C;\n",
              "      box-shadow: 0px 1px 3px 1px rgba(0, 0, 0, 0.15);\n",
              "      filter: drop-shadow(0px 1px 2px rgba(0, 0, 0, 0.3));\n",
              "      fill: #FFFFFF;\n",
              "    }\n",
              "  </style>\n",
              "\n",
              "    <script>\n",
              "      const buttonEl =\n",
              "        document.querySelector('#df-2cd80669-4caf-4ac0-b136-7a8af7869385 button.colab-df-convert');\n",
              "      buttonEl.style.display =\n",
              "        google.colab.kernel.accessAllowed ? 'block' : 'none';\n",
              "\n",
              "      async function convertToInteractive(key) {\n",
              "        const element = document.querySelector('#df-2cd80669-4caf-4ac0-b136-7a8af7869385');\n",
              "        const dataTable =\n",
              "          await google.colab.kernel.invokeFunction('convertToInteractive',\n",
              "                                                    [key], {});\n",
              "        if (!dataTable) return;\n",
              "\n",
              "        const docLinkHtml = 'Like what you see? Visit the ' +\n",
              "          '<a target=\"_blank\" href=https://colab.research.google.com/notebooks/data_table.ipynb>data table notebook</a>'\n",
              "          + ' to learn more about interactive tables.';\n",
              "        element.innerHTML = '';\n",
              "        dataTable['output_type'] = 'display_data';\n",
              "        await google.colab.output.renderOutput(dataTable, element);\n",
              "        const docLink = document.createElement('div');\n",
              "        docLink.innerHTML = docLinkHtml;\n",
              "        element.appendChild(docLink);\n",
              "      }\n",
              "    </script>\n",
              "  </div>\n",
              "\n",
              "\n",
              "<div id=\"df-6494fc39-161e-40e6-be33-599e4bb9965b\">\n",
              "  <button class=\"colab-df-quickchart\" onclick=\"quickchart('df-6494fc39-161e-40e6-be33-599e4bb9965b')\"\n",
              "            title=\"Suggest charts\"\n",
              "            style=\"display:none;\">\n",
              "\n",
              "<svg xmlns=\"http://www.w3.org/2000/svg\" height=\"24px\"viewBox=\"0 0 24 24\"\n",
              "     width=\"24px\">\n",
              "    <g>\n",
              "        <path d=\"M19 3H5c-1.1 0-2 .9-2 2v14c0 1.1.9 2 2 2h14c1.1 0 2-.9 2-2V5c0-1.1-.9-2-2-2zM9 17H7v-7h2v7zm4 0h-2V7h2v10zm4 0h-2v-4h2v4z\"/>\n",
              "    </g>\n",
              "</svg>\n",
              "  </button>\n",
              "\n",
              "<style>\n",
              "  .colab-df-quickchart {\n",
              "      --bg-color: #E8F0FE;\n",
              "      --fill-color: #1967D2;\n",
              "      --hover-bg-color: #E2EBFA;\n",
              "      --hover-fill-color: #174EA6;\n",
              "      --disabled-fill-color: #AAA;\n",
              "      --disabled-bg-color: #DDD;\n",
              "  }\n",
              "\n",
              "  [theme=dark] .colab-df-quickchart {\n",
              "      --bg-color: #3B4455;\n",
              "      --fill-color: #D2E3FC;\n",
              "      --hover-bg-color: #434B5C;\n",
              "      --hover-fill-color: #FFFFFF;\n",
              "      --disabled-bg-color: #3B4455;\n",
              "      --disabled-fill-color: #666;\n",
              "  }\n",
              "\n",
              "  .colab-df-quickchart {\n",
              "    background-color: var(--bg-color);\n",
              "    border: none;\n",
              "    border-radius: 50%;\n",
              "    cursor: pointer;\n",
              "    display: none;\n",
              "    fill: var(--fill-color);\n",
              "    height: 32px;\n",
              "    padding: 0;\n",
              "    width: 32px;\n",
              "  }\n",
              "\n",
              "  .colab-df-quickchart:hover {\n",
              "    background-color: var(--hover-bg-color);\n",
              "    box-shadow: 0 1px 2px rgba(60, 64, 67, 0.3), 0 1px 3px 1px rgba(60, 64, 67, 0.15);\n",
              "    fill: var(--button-hover-fill-color);\n",
              "  }\n",
              "\n",
              "  .colab-df-quickchart-complete:disabled,\n",
              "  .colab-df-quickchart-complete:disabled:hover {\n",
              "    background-color: var(--disabled-bg-color);\n",
              "    fill: var(--disabled-fill-color);\n",
              "    box-shadow: none;\n",
              "  }\n",
              "\n",
              "  .colab-df-spinner {\n",
              "    border: 2px solid var(--fill-color);\n",
              "    border-color: transparent;\n",
              "    border-bottom-color: var(--fill-color);\n",
              "    animation:\n",
              "      spin 1s steps(1) infinite;\n",
              "  }\n",
              "\n",
              "  @keyframes spin {\n",
              "    0% {\n",
              "      border-color: transparent;\n",
              "      border-bottom-color: var(--fill-color);\n",
              "      border-left-color: var(--fill-color);\n",
              "    }\n",
              "    20% {\n",
              "      border-color: transparent;\n",
              "      border-left-color: var(--fill-color);\n",
              "      border-top-color: var(--fill-color);\n",
              "    }\n",
              "    30% {\n",
              "      border-color: transparent;\n",
              "      border-left-color: var(--fill-color);\n",
              "      border-top-color: var(--fill-color);\n",
              "      border-right-color: var(--fill-color);\n",
              "    }\n",
              "    40% {\n",
              "      border-color: transparent;\n",
              "      border-right-color: var(--fill-color);\n",
              "      border-top-color: var(--fill-color);\n",
              "    }\n",
              "    60% {\n",
              "      border-color: transparent;\n",
              "      border-right-color: var(--fill-color);\n",
              "    }\n",
              "    80% {\n",
              "      border-color: transparent;\n",
              "      border-right-color: var(--fill-color);\n",
              "      border-bottom-color: var(--fill-color);\n",
              "    }\n",
              "    90% {\n",
              "      border-color: transparent;\n",
              "      border-bottom-color: var(--fill-color);\n",
              "    }\n",
              "  }\n",
              "</style>\n",
              "\n",
              "  <script>\n",
              "    async function quickchart(key) {\n",
              "      const quickchartButtonEl =\n",
              "        document.querySelector('#' + key + ' button');\n",
              "      quickchartButtonEl.disabled = true;  // To prevent multiple clicks.\n",
              "      quickchartButtonEl.classList.add('colab-df-spinner');\n",
              "      try {\n",
              "        const charts = await google.colab.kernel.invokeFunction(\n",
              "            'suggestCharts', [key], {});\n",
              "      } catch (error) {\n",
              "        console.error('Error during call to suggestCharts:', error);\n",
              "      }\n",
              "      quickchartButtonEl.classList.remove('colab-df-spinner');\n",
              "      quickchartButtonEl.classList.add('colab-df-quickchart-complete');\n",
              "    }\n",
              "    (() => {\n",
              "      let quickchartButtonEl =\n",
              "        document.querySelector('#df-6494fc39-161e-40e6-be33-599e4bb9965b button');\n",
              "      quickchartButtonEl.style.display =\n",
              "        google.colab.kernel.accessAllowed ? 'block' : 'none';\n",
              "    })();\n",
              "  </script>\n",
              "</div>\n",
              "\n",
              "    </div>\n",
              "  </div>\n"
            ],
            "application/vnd.google.colaboratory.intrinsic+json": {
              "type": "dataframe",
              "variable_name": "df1",
              "summary": "{\n  \"name\": \"df1\",\n  \"rows\": 150,\n  \"fields\": [\n    {\n      \"column\": \"Id\",\n      \"properties\": {\n        \"dtype\": \"number\",\n        \"std\": 43,\n        \"min\": 1,\n        \"max\": 150,\n        \"num_unique_values\": 150,\n        \"samples\": [\n          74,\n          19,\n          119\n        ],\n        \"semantic_type\": \"\",\n        \"description\": \"\"\n      }\n    },\n    {\n      \"column\": \"SepalLengthCm\",\n      \"properties\": {\n        \"dtype\": \"number\",\n        \"std\": 0.8280661279778629,\n        \"min\": 4.3,\n        \"max\": 7.9,\n        \"num_unique_values\": 35,\n        \"samples\": [\n          6.2,\n          4.5,\n          5.6\n        ],\n        \"semantic_type\": \"\",\n        \"description\": \"\"\n      }\n    },\n    {\n      \"column\": \"SepalWidthCm\",\n      \"properties\": {\n        \"dtype\": \"number\",\n        \"std\": 0.4335943113621737,\n        \"min\": 2.0,\n        \"max\": 4.4,\n        \"num_unique_values\": 23,\n        \"samples\": [\n          2.3,\n          4.0,\n          3.5\n        ],\n        \"semantic_type\": \"\",\n        \"description\": \"\"\n      }\n    },\n    {\n      \"column\": \"PetalLengthCm\",\n      \"properties\": {\n        \"dtype\": \"number\",\n        \"std\": 1.7644204199522617,\n        \"min\": 1.0,\n        \"max\": 6.9,\n        \"num_unique_values\": 43,\n        \"samples\": [\n          6.7,\n          3.8,\n          3.7\n        ],\n        \"semantic_type\": \"\",\n        \"description\": \"\"\n      }\n    },\n    {\n      \"column\": \"PetalWidthCm\",\n      \"properties\": {\n        \"dtype\": \"number\",\n        \"std\": 0.7631607417008414,\n        \"min\": 0.1,\n        \"max\": 2.5,\n        \"num_unique_values\": 22,\n        \"samples\": [\n          0.2,\n          1.2,\n          1.3\n        ],\n        \"semantic_type\": \"\",\n        \"description\": \"\"\n      }\n    },\n    {\n      \"column\": \"Species\",\n      \"properties\": {\n        \"dtype\": \"category\",\n        \"num_unique_values\": 3,\n        \"samples\": [\n          \"Iris-setosa\",\n          \"Iris-versicolor\",\n          \"Iris-virginica\"\n        ],\n        \"semantic_type\": \"\",\n        \"description\": \"\"\n      }\n    }\n  ]\n}"
            }
          },
          "metadata": {},
          "execution_count": 118
        }
      ],
      "source": [
        "df1=pd.read_csv(\"/content/Iris.csv\")\n",
        "df1.head()"
      ]
    },
    {
      "cell_type": "code",
      "source": [
        "df2=pd.read_csv(\"/content/placementdata.csv\")\n",
        "df2.head()"
      ],
      "metadata": {
        "colab": {
          "base_uri": "https://localhost:8080/",
          "height": 226
        },
        "id": "Dv1jCSVoUmOr",
        "outputId": "21c105e9-c2f9-4bb7-e81c-c8c898010ef1"
      },
      "execution_count": null,
      "outputs": [
        {
          "output_type": "execute_result",
          "data": {
            "text/plain": [
              "   StudentID  CGPA  Internships  Projects  Workshops/Certifications  \\\n",
              "0          1   7.5            1         1                         1   \n",
              "1          2   8.9            0         3                         2   \n",
              "2          3   7.3            1         2                         2   \n",
              "3          4   7.5            1         1                         2   \n",
              "4          5   8.3            1         2                         2   \n",
              "\n",
              "   AptitudeTestScore  SoftSkillsRating ExtracurricularActivities  \\\n",
              "0                 65               4.4                        No   \n",
              "1                 90               4.0                       Yes   \n",
              "2                 82               4.8                       Yes   \n",
              "3                 85               4.4                       Yes   \n",
              "4                 86               4.5                       Yes   \n",
              "\n",
              "  PlacementTraining  SSC_Marks  HSC_Marks PlacementStatus  \n",
              "0                No         61         79       NotPlaced  \n",
              "1               Yes         78         82          Placed  \n",
              "2                No         79         80       NotPlaced  \n",
              "3               Yes         81         80          Placed  \n",
              "4               Yes         74         88          Placed  "
            ],
            "text/html": [
              "\n",
              "  <div id=\"df-adcf3e99-1063-497b-8675-5c6736eefa0f\" class=\"colab-df-container\">\n",
              "    <div>\n",
              "<style scoped>\n",
              "    .dataframe tbody tr th:only-of-type {\n",
              "        vertical-align: middle;\n",
              "    }\n",
              "\n",
              "    .dataframe tbody tr th {\n",
              "        vertical-align: top;\n",
              "    }\n",
              "\n",
              "    .dataframe thead th {\n",
              "        text-align: right;\n",
              "    }\n",
              "</style>\n",
              "<table border=\"1\" class=\"dataframe\">\n",
              "  <thead>\n",
              "    <tr style=\"text-align: right;\">\n",
              "      <th></th>\n",
              "      <th>StudentID</th>\n",
              "      <th>CGPA</th>\n",
              "      <th>Internships</th>\n",
              "      <th>Projects</th>\n",
              "      <th>Workshops/Certifications</th>\n",
              "      <th>AptitudeTestScore</th>\n",
              "      <th>SoftSkillsRating</th>\n",
              "      <th>ExtracurricularActivities</th>\n",
              "      <th>PlacementTraining</th>\n",
              "      <th>SSC_Marks</th>\n",
              "      <th>HSC_Marks</th>\n",
              "      <th>PlacementStatus</th>\n",
              "    </tr>\n",
              "  </thead>\n",
              "  <tbody>\n",
              "    <tr>\n",
              "      <th>0</th>\n",
              "      <td>1</td>\n",
              "      <td>7.5</td>\n",
              "      <td>1</td>\n",
              "      <td>1</td>\n",
              "      <td>1</td>\n",
              "      <td>65</td>\n",
              "      <td>4.4</td>\n",
              "      <td>No</td>\n",
              "      <td>No</td>\n",
              "      <td>61</td>\n",
              "      <td>79</td>\n",
              "      <td>NotPlaced</td>\n",
              "    </tr>\n",
              "    <tr>\n",
              "      <th>1</th>\n",
              "      <td>2</td>\n",
              "      <td>8.9</td>\n",
              "      <td>0</td>\n",
              "      <td>3</td>\n",
              "      <td>2</td>\n",
              "      <td>90</td>\n",
              "      <td>4.0</td>\n",
              "      <td>Yes</td>\n",
              "      <td>Yes</td>\n",
              "      <td>78</td>\n",
              "      <td>82</td>\n",
              "      <td>Placed</td>\n",
              "    </tr>\n",
              "    <tr>\n",
              "      <th>2</th>\n",
              "      <td>3</td>\n",
              "      <td>7.3</td>\n",
              "      <td>1</td>\n",
              "      <td>2</td>\n",
              "      <td>2</td>\n",
              "      <td>82</td>\n",
              "      <td>4.8</td>\n",
              "      <td>Yes</td>\n",
              "      <td>No</td>\n",
              "      <td>79</td>\n",
              "      <td>80</td>\n",
              "      <td>NotPlaced</td>\n",
              "    </tr>\n",
              "    <tr>\n",
              "      <th>3</th>\n",
              "      <td>4</td>\n",
              "      <td>7.5</td>\n",
              "      <td>1</td>\n",
              "      <td>1</td>\n",
              "      <td>2</td>\n",
              "      <td>85</td>\n",
              "      <td>4.4</td>\n",
              "      <td>Yes</td>\n",
              "      <td>Yes</td>\n",
              "      <td>81</td>\n",
              "      <td>80</td>\n",
              "      <td>Placed</td>\n",
              "    </tr>\n",
              "    <tr>\n",
              "      <th>4</th>\n",
              "      <td>5</td>\n",
              "      <td>8.3</td>\n",
              "      <td>1</td>\n",
              "      <td>2</td>\n",
              "      <td>2</td>\n",
              "      <td>86</td>\n",
              "      <td>4.5</td>\n",
              "      <td>Yes</td>\n",
              "      <td>Yes</td>\n",
              "      <td>74</td>\n",
              "      <td>88</td>\n",
              "      <td>Placed</td>\n",
              "    </tr>\n",
              "  </tbody>\n",
              "</table>\n",
              "</div>\n",
              "    <div class=\"colab-df-buttons\">\n",
              "\n",
              "  <div class=\"colab-df-container\">\n",
              "    <button class=\"colab-df-convert\" onclick=\"convertToInteractive('df-adcf3e99-1063-497b-8675-5c6736eefa0f')\"\n",
              "            title=\"Convert this dataframe to an interactive table.\"\n",
              "            style=\"display:none;\">\n",
              "\n",
              "  <svg xmlns=\"http://www.w3.org/2000/svg\" height=\"24px\" viewBox=\"0 -960 960 960\">\n",
              "    <path d=\"M120-120v-720h720v720H120Zm60-500h600v-160H180v160Zm220 220h160v-160H400v160Zm0 220h160v-160H400v160ZM180-400h160v-160H180v160Zm440 0h160v-160H620v160ZM180-180h160v-160H180v160Zm440 0h160v-160H620v160Z\"/>\n",
              "  </svg>\n",
              "    </button>\n",
              "\n",
              "  <style>\n",
              "    .colab-df-container {\n",
              "      display:flex;\n",
              "      gap: 12px;\n",
              "    }\n",
              "\n",
              "    .colab-df-convert {\n",
              "      background-color: #E8F0FE;\n",
              "      border: none;\n",
              "      border-radius: 50%;\n",
              "      cursor: pointer;\n",
              "      display: none;\n",
              "      fill: #1967D2;\n",
              "      height: 32px;\n",
              "      padding: 0 0 0 0;\n",
              "      width: 32px;\n",
              "    }\n",
              "\n",
              "    .colab-df-convert:hover {\n",
              "      background-color: #E2EBFA;\n",
              "      box-shadow: 0px 1px 2px rgba(60, 64, 67, 0.3), 0px 1px 3px 1px rgba(60, 64, 67, 0.15);\n",
              "      fill: #174EA6;\n",
              "    }\n",
              "\n",
              "    .colab-df-buttons div {\n",
              "      margin-bottom: 4px;\n",
              "    }\n",
              "\n",
              "    [theme=dark] .colab-df-convert {\n",
              "      background-color: #3B4455;\n",
              "      fill: #D2E3FC;\n",
              "    }\n",
              "\n",
              "    [theme=dark] .colab-df-convert:hover {\n",
              "      background-color: #434B5C;\n",
              "      box-shadow: 0px 1px 3px 1px rgba(0, 0, 0, 0.15);\n",
              "      filter: drop-shadow(0px 1px 2px rgba(0, 0, 0, 0.3));\n",
              "      fill: #FFFFFF;\n",
              "    }\n",
              "  </style>\n",
              "\n",
              "    <script>\n",
              "      const buttonEl =\n",
              "        document.querySelector('#df-adcf3e99-1063-497b-8675-5c6736eefa0f button.colab-df-convert');\n",
              "      buttonEl.style.display =\n",
              "        google.colab.kernel.accessAllowed ? 'block' : 'none';\n",
              "\n",
              "      async function convertToInteractive(key) {\n",
              "        const element = document.querySelector('#df-adcf3e99-1063-497b-8675-5c6736eefa0f');\n",
              "        const dataTable =\n",
              "          await google.colab.kernel.invokeFunction('convertToInteractive',\n",
              "                                                    [key], {});\n",
              "        if (!dataTable) return;\n",
              "\n",
              "        const docLinkHtml = 'Like what you see? Visit the ' +\n",
              "          '<a target=\"_blank\" href=https://colab.research.google.com/notebooks/data_table.ipynb>data table notebook</a>'\n",
              "          + ' to learn more about interactive tables.';\n",
              "        element.innerHTML = '';\n",
              "        dataTable['output_type'] = 'display_data';\n",
              "        await google.colab.output.renderOutput(dataTable, element);\n",
              "        const docLink = document.createElement('div');\n",
              "        docLink.innerHTML = docLinkHtml;\n",
              "        element.appendChild(docLink);\n",
              "      }\n",
              "    </script>\n",
              "  </div>\n",
              "\n",
              "\n",
              "<div id=\"df-983ed961-848c-4e40-91be-62b513e2f650\">\n",
              "  <button class=\"colab-df-quickchart\" onclick=\"quickchart('df-983ed961-848c-4e40-91be-62b513e2f650')\"\n",
              "            title=\"Suggest charts\"\n",
              "            style=\"display:none;\">\n",
              "\n",
              "<svg xmlns=\"http://www.w3.org/2000/svg\" height=\"24px\"viewBox=\"0 0 24 24\"\n",
              "     width=\"24px\">\n",
              "    <g>\n",
              "        <path d=\"M19 3H5c-1.1 0-2 .9-2 2v14c0 1.1.9 2 2 2h14c1.1 0 2-.9 2-2V5c0-1.1-.9-2-2-2zM9 17H7v-7h2v7zm4 0h-2V7h2v10zm4 0h-2v-4h2v4z\"/>\n",
              "    </g>\n",
              "</svg>\n",
              "  </button>\n",
              "\n",
              "<style>\n",
              "  .colab-df-quickchart {\n",
              "      --bg-color: #E8F0FE;\n",
              "      --fill-color: #1967D2;\n",
              "      --hover-bg-color: #E2EBFA;\n",
              "      --hover-fill-color: #174EA6;\n",
              "      --disabled-fill-color: #AAA;\n",
              "      --disabled-bg-color: #DDD;\n",
              "  }\n",
              "\n",
              "  [theme=dark] .colab-df-quickchart {\n",
              "      --bg-color: #3B4455;\n",
              "      --fill-color: #D2E3FC;\n",
              "      --hover-bg-color: #434B5C;\n",
              "      --hover-fill-color: #FFFFFF;\n",
              "      --disabled-bg-color: #3B4455;\n",
              "      --disabled-fill-color: #666;\n",
              "  }\n",
              "\n",
              "  .colab-df-quickchart {\n",
              "    background-color: var(--bg-color);\n",
              "    border: none;\n",
              "    border-radius: 50%;\n",
              "    cursor: pointer;\n",
              "    display: none;\n",
              "    fill: var(--fill-color);\n",
              "    height: 32px;\n",
              "    padding: 0;\n",
              "    width: 32px;\n",
              "  }\n",
              "\n",
              "  .colab-df-quickchart:hover {\n",
              "    background-color: var(--hover-bg-color);\n",
              "    box-shadow: 0 1px 2px rgba(60, 64, 67, 0.3), 0 1px 3px 1px rgba(60, 64, 67, 0.15);\n",
              "    fill: var(--button-hover-fill-color);\n",
              "  }\n",
              "\n",
              "  .colab-df-quickchart-complete:disabled,\n",
              "  .colab-df-quickchart-complete:disabled:hover {\n",
              "    background-color: var(--disabled-bg-color);\n",
              "    fill: var(--disabled-fill-color);\n",
              "    box-shadow: none;\n",
              "  }\n",
              "\n",
              "  .colab-df-spinner {\n",
              "    border: 2px solid var(--fill-color);\n",
              "    border-color: transparent;\n",
              "    border-bottom-color: var(--fill-color);\n",
              "    animation:\n",
              "      spin 1s steps(1) infinite;\n",
              "  }\n",
              "\n",
              "  @keyframes spin {\n",
              "    0% {\n",
              "      border-color: transparent;\n",
              "      border-bottom-color: var(--fill-color);\n",
              "      border-left-color: var(--fill-color);\n",
              "    }\n",
              "    20% {\n",
              "      border-color: transparent;\n",
              "      border-left-color: var(--fill-color);\n",
              "      border-top-color: var(--fill-color);\n",
              "    }\n",
              "    30% {\n",
              "      border-color: transparent;\n",
              "      border-left-color: var(--fill-color);\n",
              "      border-top-color: var(--fill-color);\n",
              "      border-right-color: var(--fill-color);\n",
              "    }\n",
              "    40% {\n",
              "      border-color: transparent;\n",
              "      border-right-color: var(--fill-color);\n",
              "      border-top-color: var(--fill-color);\n",
              "    }\n",
              "    60% {\n",
              "      border-color: transparent;\n",
              "      border-right-color: var(--fill-color);\n",
              "    }\n",
              "    80% {\n",
              "      border-color: transparent;\n",
              "      border-right-color: var(--fill-color);\n",
              "      border-bottom-color: var(--fill-color);\n",
              "    }\n",
              "    90% {\n",
              "      border-color: transparent;\n",
              "      border-bottom-color: var(--fill-color);\n",
              "    }\n",
              "  }\n",
              "</style>\n",
              "\n",
              "  <script>\n",
              "    async function quickchart(key) {\n",
              "      const quickchartButtonEl =\n",
              "        document.querySelector('#' + key + ' button');\n",
              "      quickchartButtonEl.disabled = true;  // To prevent multiple clicks.\n",
              "      quickchartButtonEl.classList.add('colab-df-spinner');\n",
              "      try {\n",
              "        const charts = await google.colab.kernel.invokeFunction(\n",
              "            'suggestCharts', [key], {});\n",
              "      } catch (error) {\n",
              "        console.error('Error during call to suggestCharts:', error);\n",
              "      }\n",
              "      quickchartButtonEl.classList.remove('colab-df-spinner');\n",
              "      quickchartButtonEl.classList.add('colab-df-quickchart-complete');\n",
              "    }\n",
              "    (() => {\n",
              "      let quickchartButtonEl =\n",
              "        document.querySelector('#df-983ed961-848c-4e40-91be-62b513e2f650 button');\n",
              "      quickchartButtonEl.style.display =\n",
              "        google.colab.kernel.accessAllowed ? 'block' : 'none';\n",
              "    })();\n",
              "  </script>\n",
              "</div>\n",
              "\n",
              "    </div>\n",
              "  </div>\n"
            ],
            "application/vnd.google.colaboratory.intrinsic+json": {
              "type": "dataframe",
              "variable_name": "df2",
              "summary": "{\n  \"name\": \"df2\",\n  \"rows\": 10000,\n  \"fields\": [\n    {\n      \"column\": \"StudentID\",\n      \"properties\": {\n        \"dtype\": \"number\",\n        \"std\": 2886,\n        \"min\": 1,\n        \"max\": 10000,\n        \"num_unique_values\": 10000,\n        \"samples\": [\n          6253,\n          4685,\n          1732\n        ],\n        \"semantic_type\": \"\",\n        \"description\": \"\"\n      }\n    },\n    {\n      \"column\": \"CGPA\",\n      \"properties\": {\n        \"dtype\": \"number\",\n        \"std\": 0.6401312495900275,\n        \"min\": 6.5,\n        \"max\": 9.1,\n        \"num_unique_values\": 27,\n        \"samples\": [\n          7.9,\n          7.6,\n          7.4\n        ],\n        \"semantic_type\": \"\",\n        \"description\": \"\"\n      }\n    },\n    {\n      \"column\": \"Internships\",\n      \"properties\": {\n        \"dtype\": \"number\",\n        \"std\": 0,\n        \"min\": 0,\n        \"max\": 2,\n        \"num_unique_values\": 3,\n        \"samples\": [\n          1,\n          0,\n          2\n        ],\n        \"semantic_type\": \"\",\n        \"description\": \"\"\n      }\n    },\n    {\n      \"column\": \"Projects\",\n      \"properties\": {\n        \"dtype\": \"number\",\n        \"std\": 0,\n        \"min\": 0,\n        \"max\": 3,\n        \"num_unique_values\": 4,\n        \"samples\": [\n          3,\n          0,\n          1\n        ],\n        \"semantic_type\": \"\",\n        \"description\": \"\"\n      }\n    },\n    {\n      \"column\": \"Workshops/Certifications\",\n      \"properties\": {\n        \"dtype\": \"number\",\n        \"std\": 0,\n        \"min\": 0,\n        \"max\": 3,\n        \"num_unique_values\": 4,\n        \"samples\": [\n          2,\n          3,\n          1\n        ],\n        \"semantic_type\": \"\",\n        \"description\": \"\"\n      }\n    },\n    {\n      \"column\": \"AptitudeTestScore\",\n      \"properties\": {\n        \"dtype\": \"number\",\n        \"std\": 8,\n        \"min\": 60,\n        \"max\": 90,\n        \"num_unique_values\": 31,\n        \"samples\": [\n          69,\n          77,\n          62\n        ],\n        \"semantic_type\": \"\",\n        \"description\": \"\"\n      }\n    },\n    {\n      \"column\": \"SoftSkillsRating\",\n      \"properties\": {\n        \"dtype\": \"number\",\n        \"std\": 0.41162223176862817,\n        \"min\": 3.0,\n        \"max\": 4.8,\n        \"num_unique_values\": 19,\n        \"samples\": [\n          4.4,\n          3.5,\n          3.8\n        ],\n        \"semantic_type\": \"\",\n        \"description\": \"\"\n      }\n    },\n    {\n      \"column\": \"ExtracurricularActivities\",\n      \"properties\": {\n        \"dtype\": \"category\",\n        \"num_unique_values\": 2,\n        \"samples\": [\n          \"Yes\",\n          \"No\"\n        ],\n        \"semantic_type\": \"\",\n        \"description\": \"\"\n      }\n    },\n    {\n      \"column\": \"PlacementTraining\",\n      \"properties\": {\n        \"dtype\": \"category\",\n        \"num_unique_values\": 2,\n        \"samples\": [\n          \"Yes\",\n          \"No\"\n        ],\n        \"semantic_type\": \"\",\n        \"description\": \"\"\n      }\n    },\n    {\n      \"column\": \"SSC_Marks\",\n      \"properties\": {\n        \"dtype\": \"number\",\n        \"std\": 10,\n        \"min\": 55,\n        \"max\": 90,\n        \"num_unique_values\": 36,\n        \"samples\": [\n          89,\n          63\n        ],\n        \"semantic_type\": \"\",\n        \"description\": \"\"\n      }\n    },\n    {\n      \"column\": \"HSC_Marks\",\n      \"properties\": {\n        \"dtype\": \"number\",\n        \"std\": 8,\n        \"min\": 57,\n        \"max\": 88,\n        \"num_unique_values\": 32,\n        \"samples\": [\n          59,\n          69\n        ],\n        \"semantic_type\": \"\",\n        \"description\": \"\"\n      }\n    },\n    {\n      \"column\": \"PlacementStatus\",\n      \"properties\": {\n        \"dtype\": \"category\",\n        \"num_unique_values\": 2,\n        \"samples\": [\n          \"Placed\",\n          \"NotPlaced\"\n        ],\n        \"semantic_type\": \"\",\n        \"description\": \"\"\n      }\n    }\n  ]\n}"
            }
          },
          "metadata": {},
          "execution_count": 119
        }
      ]
    },
    {
      "cell_type": "markdown",
      "source": [
        "#Decision tree"
      ],
      "metadata": {
        "id": "iiDSzOrZVHC7"
      }
    },
    {
      "cell_type": "markdown",
      "source": [
        "IRIS"
      ],
      "metadata": {
        "id": "jQ3njfWSWK8z"
      }
    },
    {
      "cell_type": "code",
      "source": [
        "feature_cols = ['SepalLengthCm','SepalWidthCm','PetalLengthCm','PetalWidthCm']\n",
        "X = df1[feature_cols]\n",
        "y = df1['Species']"
      ],
      "metadata": {
        "id": "DxEX6bY1U1lD"
      },
      "execution_count": null,
      "outputs": []
    },
    {
      "cell_type": "code",
      "source": [
        "X_train, X_test, y_train, y_test = train_test_split(X, y, test_size=0.3, random_state=42)"
      ],
      "metadata": {
        "id": "xHzKiSTOVJuq"
      },
      "execution_count": null,
      "outputs": []
    },
    {
      "cell_type": "code",
      "source": [
        "clf1 = DecisionTreeClassifier()\n",
        "clf1 = clf1.fit(X_train,y_train)"
      ],
      "metadata": {
        "id": "mWVT0N3_VVTh"
      },
      "execution_count": null,
      "outputs": []
    },
    {
      "cell_type": "code",
      "source": [
        "y_pred = clf1.predict(X_test)"
      ],
      "metadata": {
        "id": "CVHGkeK6VdiK"
      },
      "execution_count": null,
      "outputs": []
    },
    {
      "cell_type": "code",
      "source": [
        "print(\"Training Accuracy:\",clf1.score(X_train, y_train))"
      ],
      "metadata": {
        "colab": {
          "base_uri": "https://localhost:8080/"
        },
        "id": "PydMfHgoVjZK",
        "outputId": "930f92e1-e10b-48a2-858d-7ef8a130b63f"
      },
      "execution_count": null,
      "outputs": [
        {
          "output_type": "stream",
          "name": "stdout",
          "text": [
            "Training Accuracy: 1.0\n"
          ]
        }
      ]
    },
    {
      "cell_type": "code",
      "source": [
        "print(\"Testing Accuracy:\",metrics.accuracy_score(y_test, y_pred))"
      ],
      "metadata": {
        "colab": {
          "base_uri": "https://localhost:8080/"
        },
        "id": "BZf-yw9mVfQa",
        "outputId": "c8792a76-901d-49c4-d104-e3096e0edb30"
      },
      "execution_count": null,
      "outputs": [
        {
          "output_type": "stream",
          "name": "stdout",
          "text": [
            "Testing Accuracy: 1.0\n"
          ]
        }
      ]
    },
    {
      "cell_type": "markdown",
      "source": [
        "PLACEMENT DATA"
      ],
      "metadata": {
        "id": "D7COZi_GWMhr"
      }
    },
    {
      "cell_type": "code",
      "source": [
        "df2.info()"
      ],
      "metadata": {
        "colab": {
          "base_uri": "https://localhost:8080/"
        },
        "id": "mG7Q0QMiX-Y7",
        "outputId": "4c81a264-0bb3-41dd-a9f0-fb7ea1882384"
      },
      "execution_count": null,
      "outputs": [
        {
          "output_type": "stream",
          "name": "stdout",
          "text": [
            "<class 'pandas.core.frame.DataFrame'>\n",
            "RangeIndex: 10000 entries, 0 to 9999\n",
            "Data columns (total 12 columns):\n",
            " #   Column                     Non-Null Count  Dtype  \n",
            "---  ------                     --------------  -----  \n",
            " 0   StudentID                  10000 non-null  int64  \n",
            " 1   CGPA                       10000 non-null  float64\n",
            " 2   Internships                10000 non-null  int64  \n",
            " 3   Projects                   10000 non-null  int64  \n",
            " 4   Workshops/Certifications   10000 non-null  int64  \n",
            " 5   AptitudeTestScore          10000 non-null  int64  \n",
            " 6   SoftSkillsRating           10000 non-null  float64\n",
            " 7   ExtracurricularActivities  10000 non-null  object \n",
            " 8   PlacementTraining          10000 non-null  object \n",
            " 9   SSC_Marks                  10000 non-null  int64  \n",
            " 10  HSC_Marks                  10000 non-null  int64  \n",
            " 11  PlacementStatus            10000 non-null  object \n",
            "dtypes: float64(2), int64(7), object(3)\n",
            "memory usage: 937.6+ KB\n"
          ]
        }
      ]
    },
    {
      "cell_type": "code",
      "source": [
        "extra_mapping = {'No': 0, 'Yes': 1}\n",
        "df2['ExtracurricularActivities'] = df2['ExtracurricularActivities'].map(extra_mapping)"
      ],
      "metadata": {
        "id": "WXVumatWX1Is"
      },
      "execution_count": null,
      "outputs": []
    },
    {
      "cell_type": "code",
      "source": [
        "placementtrain_mapping = {'No': 0, 'Yes': 1}\n",
        "df2['PlacementTraining'] = df2['PlacementTraining'].map(placementtrain_mapping)"
      ],
      "metadata": {
        "id": "F_0COXuHXON6"
      },
      "execution_count": null,
      "outputs": []
    },
    {
      "cell_type": "code",
      "source": [
        "feature_cols = ['CGPA','Internships','Projects','Workshops/Certifications','AptitudeTestScore','SoftSkillsRating','ExtracurricularActivities','PlacementTraining','SSC_Marks','HSC_Marks']\n",
        "X2 = df2[feature_cols]\n",
        "y2 = df2['PlacementStatus']"
      ],
      "metadata": {
        "id": "auQTpGI7VibS"
      },
      "execution_count": null,
      "outputs": []
    },
    {
      "cell_type": "code",
      "source": [
        "X2_train, X2_test, y2_train, y2_test = train_test_split(X2, y2, test_size=0.3, random_state=42)"
      ],
      "metadata": {
        "id": "SMsaGlD2Wwwj"
      },
      "execution_count": null,
      "outputs": []
    },
    {
      "cell_type": "code",
      "source": [
        "clf12 = DecisionTreeClassifier()\n",
        "clf12 = clf12.fit(X2_train,y2_train)"
      ],
      "metadata": {
        "id": "w5azxYlxW2_6"
      },
      "execution_count": null,
      "outputs": []
    },
    {
      "cell_type": "code",
      "source": [
        "y2_pred = clf12.predict(X2_test)"
      ],
      "metadata": {
        "id": "3AzqJiRjW6Gz"
      },
      "execution_count": null,
      "outputs": []
    },
    {
      "cell_type": "code",
      "source": [
        "print(\"Training Accuracy:\",clf12.score(X2_train, y2_train))"
      ],
      "metadata": {
        "colab": {
          "base_uri": "https://localhost:8080/"
        },
        "id": "jAZob104Yur8",
        "outputId": "8139d719-c474-4c9b-bc58-8a7953b5c139"
      },
      "execution_count": null,
      "outputs": [
        {
          "output_type": "stream",
          "name": "stdout",
          "text": [
            "Training Accuracy: 0.9991428571428571\n"
          ]
        }
      ]
    },
    {
      "cell_type": "code",
      "source": [
        "print(\"Testing Accuracy:\",metrics.accuracy_score(y2_test, y2_pred))"
      ],
      "metadata": {
        "colab": {
          "base_uri": "https://localhost:8080/"
        },
        "id": "J_iWcRWnYxjT",
        "outputId": "9e24c671-27bf-41bc-90e4-741628b7ef99"
      },
      "execution_count": null,
      "outputs": [
        {
          "output_type": "stream",
          "name": "stdout",
          "text": [
            "Testing Accuracy: 0.7146666666666667\n"
          ]
        }
      ]
    },
    {
      "cell_type": "markdown",
      "source": [
        "#Decision tree with feature importance"
      ],
      "metadata": {
        "id": "lueRJZRZZWoM"
      }
    },
    {
      "cell_type": "markdown",
      "source": [
        "IRIS"
      ],
      "metadata": {
        "id": "AKWzsaExZ3uT"
      }
    },
    {
      "cell_type": "code",
      "source": [
        "imp1=pd.Series(clf1.feature_importances_)\n",
        "imp1"
      ],
      "metadata": {
        "colab": {
          "base_uri": "https://localhost:8080/",
          "height": 209
        },
        "id": "bZ9e9MpgY017",
        "outputId": "2ae45599-4f80-4678-de36-29e6fb759f08"
      },
      "execution_count": null,
      "outputs": [
        {
          "output_type": "execute_result",
          "data": {
            "text/plain": [
              "0    0.000000\n",
              "1    0.019110\n",
              "2    0.423567\n",
              "3    0.557323\n",
              "dtype: float64"
            ],
            "text/html": [
              "<div>\n",
              "<style scoped>\n",
              "    .dataframe tbody tr th:only-of-type {\n",
              "        vertical-align: middle;\n",
              "    }\n",
              "\n",
              "    .dataframe tbody tr th {\n",
              "        vertical-align: top;\n",
              "    }\n",
              "\n",
              "    .dataframe thead th {\n",
              "        text-align: right;\n",
              "    }\n",
              "</style>\n",
              "<table border=\"1\" class=\"dataframe\">\n",
              "  <thead>\n",
              "    <tr style=\"text-align: right;\">\n",
              "      <th></th>\n",
              "      <th>0</th>\n",
              "    </tr>\n",
              "  </thead>\n",
              "  <tbody>\n",
              "    <tr>\n",
              "      <th>0</th>\n",
              "      <td>0.000000</td>\n",
              "    </tr>\n",
              "    <tr>\n",
              "      <th>1</th>\n",
              "      <td>0.019110</td>\n",
              "    </tr>\n",
              "    <tr>\n",
              "      <th>2</th>\n",
              "      <td>0.423567</td>\n",
              "    </tr>\n",
              "    <tr>\n",
              "      <th>3</th>\n",
              "      <td>0.557323</td>\n",
              "    </tr>\n",
              "  </tbody>\n",
              "</table>\n",
              "</div><br><label><b>dtype:</b> float64</label>"
            ]
          },
          "metadata": {},
          "execution_count": 135
        }
      ]
    },
    {
      "cell_type": "code",
      "source": [
        "df1.drop(columns=['SepalLengthCm'],axis=1,inplace=True)"
      ],
      "metadata": {
        "id": "RX3A6h5HapLg"
      },
      "execution_count": null,
      "outputs": []
    },
    {
      "cell_type": "code",
      "source": [
        "X21 = df1.drop('Species', axis=1)\n",
        "y21 = df1['Species']"
      ],
      "metadata": {
        "id": "e8vYGQ8-beei"
      },
      "execution_count": null,
      "outputs": []
    },
    {
      "cell_type": "code",
      "source": [
        "X21_train, X21_test, y21_train, y21_test = train_test_split(X21, y21, test_size=0.3, random_state=42)"
      ],
      "metadata": {
        "id": "Sp2xnYjKbENL"
      },
      "execution_count": null,
      "outputs": []
    },
    {
      "cell_type": "code",
      "source": [
        "clf21 = DecisionTreeClassifier()\n",
        "clf21 = clf21.fit(X21_train,y21_train)"
      ],
      "metadata": {
        "id": "mnUlE6QxbbqB"
      },
      "execution_count": null,
      "outputs": []
    },
    {
      "cell_type": "code",
      "source": [
        "y21_pred = clf21.predict(X21_test)"
      ],
      "metadata": {
        "id": "IDOsal-Cb0gJ"
      },
      "execution_count": null,
      "outputs": []
    },
    {
      "cell_type": "code",
      "source": [
        "print(\"Training Accuracy:\",clf21.score(X21_train, y21_train))"
      ],
      "metadata": {
        "colab": {
          "base_uri": "https://localhost:8080/"
        },
        "id": "h7n9lUghb3-A",
        "outputId": "1fda0acd-1af2-4611-a247-7408281a2192"
      },
      "execution_count": null,
      "outputs": [
        {
          "output_type": "stream",
          "name": "stdout",
          "text": [
            "Training Accuracy: 1.0\n"
          ]
        }
      ]
    },
    {
      "cell_type": "code",
      "source": [
        "print(\"Testing Accuracy:\",metrics.accuracy_score(y21_test, y21_pred))"
      ],
      "metadata": {
        "colab": {
          "base_uri": "https://localhost:8080/"
        },
        "id": "IgfrH4xUb9dR",
        "outputId": "bce73dd8-8deb-4691-c069-17f9e94c42d2"
      },
      "execution_count": null,
      "outputs": [
        {
          "output_type": "stream",
          "name": "stdout",
          "text": [
            "Testing Accuracy: 1.0\n"
          ]
        }
      ]
    },
    {
      "cell_type": "markdown",
      "source": [
        "PLACEMENT DATA"
      ],
      "metadata": {
        "id": "18deLR_qcN46"
      }
    },
    {
      "cell_type": "code",
      "source": [
        "imp12=pd.Series(clf12.feature_importances_)\n",
        "imp12"
      ],
      "metadata": {
        "colab": {
          "base_uri": "https://localhost:8080/",
          "height": 397
        },
        "id": "ja7oObe7cJJ5",
        "outputId": "5e5bf7b2-10cc-43e5-a496-1e5ec3c79114"
      },
      "execution_count": null,
      "outputs": [
        {
          "output_type": "execute_result",
          "data": {
            "text/plain": [
              "0    0.110165\n",
              "1    0.027733\n",
              "2    0.031212\n",
              "3    0.040516\n",
              "4    0.149812\n",
              "5    0.086128\n",
              "6    0.042496\n",
              "7    0.022271\n",
              "8    0.108759\n",
              "9    0.380907\n",
              "dtype: float64"
            ],
            "text/html": [
              "<div>\n",
              "<style scoped>\n",
              "    .dataframe tbody tr th:only-of-type {\n",
              "        vertical-align: middle;\n",
              "    }\n",
              "\n",
              "    .dataframe tbody tr th {\n",
              "        vertical-align: top;\n",
              "    }\n",
              "\n",
              "    .dataframe thead th {\n",
              "        text-align: right;\n",
              "    }\n",
              "</style>\n",
              "<table border=\"1\" class=\"dataframe\">\n",
              "  <thead>\n",
              "    <tr style=\"text-align: right;\">\n",
              "      <th></th>\n",
              "      <th>0</th>\n",
              "    </tr>\n",
              "  </thead>\n",
              "  <tbody>\n",
              "    <tr>\n",
              "      <th>0</th>\n",
              "      <td>0.110165</td>\n",
              "    </tr>\n",
              "    <tr>\n",
              "      <th>1</th>\n",
              "      <td>0.027733</td>\n",
              "    </tr>\n",
              "    <tr>\n",
              "      <th>2</th>\n",
              "      <td>0.031212</td>\n",
              "    </tr>\n",
              "    <tr>\n",
              "      <th>3</th>\n",
              "      <td>0.040516</td>\n",
              "    </tr>\n",
              "    <tr>\n",
              "      <th>4</th>\n",
              "      <td>0.149812</td>\n",
              "    </tr>\n",
              "    <tr>\n",
              "      <th>5</th>\n",
              "      <td>0.086128</td>\n",
              "    </tr>\n",
              "    <tr>\n",
              "      <th>6</th>\n",
              "      <td>0.042496</td>\n",
              "    </tr>\n",
              "    <tr>\n",
              "      <th>7</th>\n",
              "      <td>0.022271</td>\n",
              "    </tr>\n",
              "    <tr>\n",
              "      <th>8</th>\n",
              "      <td>0.108759</td>\n",
              "    </tr>\n",
              "    <tr>\n",
              "      <th>9</th>\n",
              "      <td>0.380907</td>\n",
              "    </tr>\n",
              "  </tbody>\n",
              "</table>\n",
              "</div><br><label><b>dtype:</b> float64</label>"
            ]
          },
          "metadata": {},
          "execution_count": 143
        }
      ]
    },
    {
      "cell_type": "code",
      "source": [
        "df2.drop(columns=['ExtracurricularActivities','PlacementTraining'],axis=1,inplace=True)"
      ],
      "metadata": {
        "id": "MfMvrwJvcUih"
      },
      "execution_count": null,
      "outputs": []
    },
    {
      "cell_type": "code",
      "source": [
        "X22 = df2.drop('PlacementStatus', axis=1)\n",
        "y22 = df2['PlacementStatus']"
      ],
      "metadata": {
        "id": "4A4NhAu9cuHw"
      },
      "execution_count": null,
      "outputs": []
    },
    {
      "cell_type": "code",
      "source": [
        "X22_train, X22_test, y22_train, y22_test = train_test_split(X22, y22, test_size=0.3, random_state=42)"
      ],
      "metadata": {
        "id": "gVfybPv6c4nR"
      },
      "execution_count": null,
      "outputs": []
    },
    {
      "cell_type": "code",
      "source": [
        "clf22 = DecisionTreeClassifier()\n",
        "clf22 = clf1.fit(X22_train,y22_train)"
      ],
      "metadata": {
        "id": "7WrW28ADdC5R"
      },
      "execution_count": null,
      "outputs": []
    },
    {
      "cell_type": "code",
      "source": [
        "y22_pred = clf22.predict(X22_test)"
      ],
      "metadata": {
        "id": "bN96_MVJdHci"
      },
      "execution_count": null,
      "outputs": []
    },
    {
      "cell_type": "code",
      "source": [
        "print(\"Training Accuracy:\",clf22.score(X22_train, y22_train))"
      ],
      "metadata": {
        "colab": {
          "base_uri": "https://localhost:8080/"
        },
        "id": "1RPJtjTSdLLp",
        "outputId": "a3d35ca8-e36f-41a4-b19c-3a1a6cc8e650"
      },
      "execution_count": null,
      "outputs": [
        {
          "output_type": "stream",
          "name": "stdout",
          "text": [
            "Training Accuracy: 1.0\n"
          ]
        }
      ]
    },
    {
      "cell_type": "code",
      "source": [
        "print(\"Testing Accuracy:\",metrics.accuracy_score(y22_test, y22_pred))"
      ],
      "metadata": {
        "colab": {
          "base_uri": "https://localhost:8080/"
        },
        "id": "AdzjVxfadPzx",
        "outputId": "b96cc618-16c8-47e7-a88a-e3d4bea94d7e"
      },
      "execution_count": null,
      "outputs": [
        {
          "output_type": "stream",
          "name": "stdout",
          "text": [
            "Testing Accuracy: 0.7106666666666667\n"
          ]
        }
      ]
    },
    {
      "cell_type": "markdown",
      "source": [
        "#Random Forest w n estimation\n"
      ],
      "metadata": {
        "id": "gjnmYRj1dfuo"
      }
    },
    {
      "cell_type": "code",
      "source": [
        "from sklearn.ensemble import RandomForestClassifier"
      ],
      "metadata": {
        "id": "_vqw5OGNew2X"
      },
      "execution_count": null,
      "outputs": []
    },
    {
      "cell_type": "markdown",
      "source": [
        "IRIS"
      ],
      "metadata": {
        "id": "KfAr2GjNd6Fh"
      }
    },
    {
      "cell_type": "code",
      "source": [
        "df3=pd.read_csv(\"/content/Iris.csv\")\n",
        "df3.head()"
      ],
      "metadata": {
        "colab": {
          "base_uri": "https://localhost:8080/",
          "height": 206
        },
        "id": "1TXEf-nLdUDp",
        "outputId": "18b0189b-9b14-41de-92b9-22f793d016a3"
      },
      "execution_count": null,
      "outputs": [
        {
          "output_type": "execute_result",
          "data": {
            "text/plain": [
              "   Id  SepalLengthCm  SepalWidthCm  PetalLengthCm  PetalWidthCm      Species\n",
              "0   1            5.1           3.5            1.4           0.2  Iris-setosa\n",
              "1   2            4.9           3.0            1.4           0.2  Iris-setosa\n",
              "2   3            4.7           3.2            1.3           0.2  Iris-setosa\n",
              "3   4            4.6           3.1            1.5           0.2  Iris-setosa\n",
              "4   5            5.0           3.6            1.4           0.2  Iris-setosa"
            ],
            "text/html": [
              "\n",
              "  <div id=\"df-8558a677-0601-4a4c-a5f6-e8eade19377b\" class=\"colab-df-container\">\n",
              "    <div>\n",
              "<style scoped>\n",
              "    .dataframe tbody tr th:only-of-type {\n",
              "        vertical-align: middle;\n",
              "    }\n",
              "\n",
              "    .dataframe tbody tr th {\n",
              "        vertical-align: top;\n",
              "    }\n",
              "\n",
              "    .dataframe thead th {\n",
              "        text-align: right;\n",
              "    }\n",
              "</style>\n",
              "<table border=\"1\" class=\"dataframe\">\n",
              "  <thead>\n",
              "    <tr style=\"text-align: right;\">\n",
              "      <th></th>\n",
              "      <th>Id</th>\n",
              "      <th>SepalLengthCm</th>\n",
              "      <th>SepalWidthCm</th>\n",
              "      <th>PetalLengthCm</th>\n",
              "      <th>PetalWidthCm</th>\n",
              "      <th>Species</th>\n",
              "    </tr>\n",
              "  </thead>\n",
              "  <tbody>\n",
              "    <tr>\n",
              "      <th>0</th>\n",
              "      <td>1</td>\n",
              "      <td>5.1</td>\n",
              "      <td>3.5</td>\n",
              "      <td>1.4</td>\n",
              "      <td>0.2</td>\n",
              "      <td>Iris-setosa</td>\n",
              "    </tr>\n",
              "    <tr>\n",
              "      <th>1</th>\n",
              "      <td>2</td>\n",
              "      <td>4.9</td>\n",
              "      <td>3.0</td>\n",
              "      <td>1.4</td>\n",
              "      <td>0.2</td>\n",
              "      <td>Iris-setosa</td>\n",
              "    </tr>\n",
              "    <tr>\n",
              "      <th>2</th>\n",
              "      <td>3</td>\n",
              "      <td>4.7</td>\n",
              "      <td>3.2</td>\n",
              "      <td>1.3</td>\n",
              "      <td>0.2</td>\n",
              "      <td>Iris-setosa</td>\n",
              "    </tr>\n",
              "    <tr>\n",
              "      <th>3</th>\n",
              "      <td>4</td>\n",
              "      <td>4.6</td>\n",
              "      <td>3.1</td>\n",
              "      <td>1.5</td>\n",
              "      <td>0.2</td>\n",
              "      <td>Iris-setosa</td>\n",
              "    </tr>\n",
              "    <tr>\n",
              "      <th>4</th>\n",
              "      <td>5</td>\n",
              "      <td>5.0</td>\n",
              "      <td>3.6</td>\n",
              "      <td>1.4</td>\n",
              "      <td>0.2</td>\n",
              "      <td>Iris-setosa</td>\n",
              "    </tr>\n",
              "  </tbody>\n",
              "</table>\n",
              "</div>\n",
              "    <div class=\"colab-df-buttons\">\n",
              "\n",
              "  <div class=\"colab-df-container\">\n",
              "    <button class=\"colab-df-convert\" onclick=\"convertToInteractive('df-8558a677-0601-4a4c-a5f6-e8eade19377b')\"\n",
              "            title=\"Convert this dataframe to an interactive table.\"\n",
              "            style=\"display:none;\">\n",
              "\n",
              "  <svg xmlns=\"http://www.w3.org/2000/svg\" height=\"24px\" viewBox=\"0 -960 960 960\">\n",
              "    <path d=\"M120-120v-720h720v720H120Zm60-500h600v-160H180v160Zm220 220h160v-160H400v160Zm0 220h160v-160H400v160ZM180-400h160v-160H180v160Zm440 0h160v-160H620v160ZM180-180h160v-160H180v160Zm440 0h160v-160H620v160Z\"/>\n",
              "  </svg>\n",
              "    </button>\n",
              "\n",
              "  <style>\n",
              "    .colab-df-container {\n",
              "      display:flex;\n",
              "      gap: 12px;\n",
              "    }\n",
              "\n",
              "    .colab-df-convert {\n",
              "      background-color: #E8F0FE;\n",
              "      border: none;\n",
              "      border-radius: 50%;\n",
              "      cursor: pointer;\n",
              "      display: none;\n",
              "      fill: #1967D2;\n",
              "      height: 32px;\n",
              "      padding: 0 0 0 0;\n",
              "      width: 32px;\n",
              "    }\n",
              "\n",
              "    .colab-df-convert:hover {\n",
              "      background-color: #E2EBFA;\n",
              "      box-shadow: 0px 1px 2px rgba(60, 64, 67, 0.3), 0px 1px 3px 1px rgba(60, 64, 67, 0.15);\n",
              "      fill: #174EA6;\n",
              "    }\n",
              "\n",
              "    .colab-df-buttons div {\n",
              "      margin-bottom: 4px;\n",
              "    }\n",
              "\n",
              "    [theme=dark] .colab-df-convert {\n",
              "      background-color: #3B4455;\n",
              "      fill: #D2E3FC;\n",
              "    }\n",
              "\n",
              "    [theme=dark] .colab-df-convert:hover {\n",
              "      background-color: #434B5C;\n",
              "      box-shadow: 0px 1px 3px 1px rgba(0, 0, 0, 0.15);\n",
              "      filter: drop-shadow(0px 1px 2px rgba(0, 0, 0, 0.3));\n",
              "      fill: #FFFFFF;\n",
              "    }\n",
              "  </style>\n",
              "\n",
              "    <script>\n",
              "      const buttonEl =\n",
              "        document.querySelector('#df-8558a677-0601-4a4c-a5f6-e8eade19377b button.colab-df-convert');\n",
              "      buttonEl.style.display =\n",
              "        google.colab.kernel.accessAllowed ? 'block' : 'none';\n",
              "\n",
              "      async function convertToInteractive(key) {\n",
              "        const element = document.querySelector('#df-8558a677-0601-4a4c-a5f6-e8eade19377b');\n",
              "        const dataTable =\n",
              "          await google.colab.kernel.invokeFunction('convertToInteractive',\n",
              "                                                    [key], {});\n",
              "        if (!dataTable) return;\n",
              "\n",
              "        const docLinkHtml = 'Like what you see? Visit the ' +\n",
              "          '<a target=\"_blank\" href=https://colab.research.google.com/notebooks/data_table.ipynb>data table notebook</a>'\n",
              "          + ' to learn more about interactive tables.';\n",
              "        element.innerHTML = '';\n",
              "        dataTable['output_type'] = 'display_data';\n",
              "        await google.colab.output.renderOutput(dataTable, element);\n",
              "        const docLink = document.createElement('div');\n",
              "        docLink.innerHTML = docLinkHtml;\n",
              "        element.appendChild(docLink);\n",
              "      }\n",
              "    </script>\n",
              "  </div>\n",
              "\n",
              "\n",
              "<div id=\"df-f2d3bf05-4c42-49b4-b7d3-665944e60572\">\n",
              "  <button class=\"colab-df-quickchart\" onclick=\"quickchart('df-f2d3bf05-4c42-49b4-b7d3-665944e60572')\"\n",
              "            title=\"Suggest charts\"\n",
              "            style=\"display:none;\">\n",
              "\n",
              "<svg xmlns=\"http://www.w3.org/2000/svg\" height=\"24px\"viewBox=\"0 0 24 24\"\n",
              "     width=\"24px\">\n",
              "    <g>\n",
              "        <path d=\"M19 3H5c-1.1 0-2 .9-2 2v14c0 1.1.9 2 2 2h14c1.1 0 2-.9 2-2V5c0-1.1-.9-2-2-2zM9 17H7v-7h2v7zm4 0h-2V7h2v10zm4 0h-2v-4h2v4z\"/>\n",
              "    </g>\n",
              "</svg>\n",
              "  </button>\n",
              "\n",
              "<style>\n",
              "  .colab-df-quickchart {\n",
              "      --bg-color: #E8F0FE;\n",
              "      --fill-color: #1967D2;\n",
              "      --hover-bg-color: #E2EBFA;\n",
              "      --hover-fill-color: #174EA6;\n",
              "      --disabled-fill-color: #AAA;\n",
              "      --disabled-bg-color: #DDD;\n",
              "  }\n",
              "\n",
              "  [theme=dark] .colab-df-quickchart {\n",
              "      --bg-color: #3B4455;\n",
              "      --fill-color: #D2E3FC;\n",
              "      --hover-bg-color: #434B5C;\n",
              "      --hover-fill-color: #FFFFFF;\n",
              "      --disabled-bg-color: #3B4455;\n",
              "      --disabled-fill-color: #666;\n",
              "  }\n",
              "\n",
              "  .colab-df-quickchart {\n",
              "    background-color: var(--bg-color);\n",
              "    border: none;\n",
              "    border-radius: 50%;\n",
              "    cursor: pointer;\n",
              "    display: none;\n",
              "    fill: var(--fill-color);\n",
              "    height: 32px;\n",
              "    padding: 0;\n",
              "    width: 32px;\n",
              "  }\n",
              "\n",
              "  .colab-df-quickchart:hover {\n",
              "    background-color: var(--hover-bg-color);\n",
              "    box-shadow: 0 1px 2px rgba(60, 64, 67, 0.3), 0 1px 3px 1px rgba(60, 64, 67, 0.15);\n",
              "    fill: var(--button-hover-fill-color);\n",
              "  }\n",
              "\n",
              "  .colab-df-quickchart-complete:disabled,\n",
              "  .colab-df-quickchart-complete:disabled:hover {\n",
              "    background-color: var(--disabled-bg-color);\n",
              "    fill: var(--disabled-fill-color);\n",
              "    box-shadow: none;\n",
              "  }\n",
              "\n",
              "  .colab-df-spinner {\n",
              "    border: 2px solid var(--fill-color);\n",
              "    border-color: transparent;\n",
              "    border-bottom-color: var(--fill-color);\n",
              "    animation:\n",
              "      spin 1s steps(1) infinite;\n",
              "  }\n",
              "\n",
              "  @keyframes spin {\n",
              "    0% {\n",
              "      border-color: transparent;\n",
              "      border-bottom-color: var(--fill-color);\n",
              "      border-left-color: var(--fill-color);\n",
              "    }\n",
              "    20% {\n",
              "      border-color: transparent;\n",
              "      border-left-color: var(--fill-color);\n",
              "      border-top-color: var(--fill-color);\n",
              "    }\n",
              "    30% {\n",
              "      border-color: transparent;\n",
              "      border-left-color: var(--fill-color);\n",
              "      border-top-color: var(--fill-color);\n",
              "      border-right-color: var(--fill-color);\n",
              "    }\n",
              "    40% {\n",
              "      border-color: transparent;\n",
              "      border-right-color: var(--fill-color);\n",
              "      border-top-color: var(--fill-color);\n",
              "    }\n",
              "    60% {\n",
              "      border-color: transparent;\n",
              "      border-right-color: var(--fill-color);\n",
              "    }\n",
              "    80% {\n",
              "      border-color: transparent;\n",
              "      border-right-color: var(--fill-color);\n",
              "      border-bottom-color: var(--fill-color);\n",
              "    }\n",
              "    90% {\n",
              "      border-color: transparent;\n",
              "      border-bottom-color: var(--fill-color);\n",
              "    }\n",
              "  }\n",
              "</style>\n",
              "\n",
              "  <script>\n",
              "    async function quickchart(key) {\n",
              "      const quickchartButtonEl =\n",
              "        document.querySelector('#' + key + ' button');\n",
              "      quickchartButtonEl.disabled = true;  // To prevent multiple clicks.\n",
              "      quickchartButtonEl.classList.add('colab-df-spinner');\n",
              "      try {\n",
              "        const charts = await google.colab.kernel.invokeFunction(\n",
              "            'suggestCharts', [key], {});\n",
              "      } catch (error) {\n",
              "        console.error('Error during call to suggestCharts:', error);\n",
              "      }\n",
              "      quickchartButtonEl.classList.remove('colab-df-spinner');\n",
              "      quickchartButtonEl.classList.add('colab-df-quickchart-complete');\n",
              "    }\n",
              "    (() => {\n",
              "      let quickchartButtonEl =\n",
              "        document.querySelector('#df-f2d3bf05-4c42-49b4-b7d3-665944e60572 button');\n",
              "      quickchartButtonEl.style.display =\n",
              "        google.colab.kernel.accessAllowed ? 'block' : 'none';\n",
              "    })();\n",
              "  </script>\n",
              "</div>\n",
              "\n",
              "    </div>\n",
              "  </div>\n"
            ],
            "application/vnd.google.colaboratory.intrinsic+json": {
              "type": "dataframe",
              "variable_name": "df3",
              "summary": "{\n  \"name\": \"df3\",\n  \"rows\": 150,\n  \"fields\": [\n    {\n      \"column\": \"Id\",\n      \"properties\": {\n        \"dtype\": \"number\",\n        \"std\": 43,\n        \"min\": 1,\n        \"max\": 150,\n        \"num_unique_values\": 150,\n        \"samples\": [\n          74,\n          19,\n          119\n        ],\n        \"semantic_type\": \"\",\n        \"description\": \"\"\n      }\n    },\n    {\n      \"column\": \"SepalLengthCm\",\n      \"properties\": {\n        \"dtype\": \"number\",\n        \"std\": 0.8280661279778629,\n        \"min\": 4.3,\n        \"max\": 7.9,\n        \"num_unique_values\": 35,\n        \"samples\": [\n          6.2,\n          4.5,\n          5.6\n        ],\n        \"semantic_type\": \"\",\n        \"description\": \"\"\n      }\n    },\n    {\n      \"column\": \"SepalWidthCm\",\n      \"properties\": {\n        \"dtype\": \"number\",\n        \"std\": 0.4335943113621737,\n        \"min\": 2.0,\n        \"max\": 4.4,\n        \"num_unique_values\": 23,\n        \"samples\": [\n          2.3,\n          4.0,\n          3.5\n        ],\n        \"semantic_type\": \"\",\n        \"description\": \"\"\n      }\n    },\n    {\n      \"column\": \"PetalLengthCm\",\n      \"properties\": {\n        \"dtype\": \"number\",\n        \"std\": 1.7644204199522617,\n        \"min\": 1.0,\n        \"max\": 6.9,\n        \"num_unique_values\": 43,\n        \"samples\": [\n          6.7,\n          3.8,\n          3.7\n        ],\n        \"semantic_type\": \"\",\n        \"description\": \"\"\n      }\n    },\n    {\n      \"column\": \"PetalWidthCm\",\n      \"properties\": {\n        \"dtype\": \"number\",\n        \"std\": 0.7631607417008414,\n        \"min\": 0.1,\n        \"max\": 2.5,\n        \"num_unique_values\": 22,\n        \"samples\": [\n          0.2,\n          1.2,\n          1.3\n        ],\n        \"semantic_type\": \"\",\n        \"description\": \"\"\n      }\n    },\n    {\n      \"column\": \"Species\",\n      \"properties\": {\n        \"dtype\": \"category\",\n        \"num_unique_values\": 3,\n        \"samples\": [\n          \"Iris-setosa\",\n          \"Iris-versicolor\",\n          \"Iris-virginica\"\n        ],\n        \"semantic_type\": \"\",\n        \"description\": \"\"\n      }\n    }\n  ]\n}"
            }
          },
          "metadata": {},
          "execution_count": 152
        }
      ]
    },
    {
      "cell_type": "code",
      "source": [
        "feature_cols = ['SepalLengthCm','SepalWidthCm','PetalLengthCm','PetalWidthCm']\n",
        "X31 = df3[feature_cols]\n",
        "y31 = df3['Species']"
      ],
      "metadata": {
        "id": "fRf9DZikeAKp"
      },
      "execution_count": null,
      "outputs": []
    },
    {
      "cell_type": "code",
      "source": [
        "X31_train, X31_test, y31_train, y31_test = train_test_split(X31, y31, test_size=0.3, random_state=42)"
      ],
      "metadata": {
        "id": "MBoPO_JIeOxK"
      },
      "execution_count": null,
      "outputs": []
    },
    {
      "cell_type": "code",
      "source": [
        "clf31 = RandomForestClassifier(n_estimators=100)\n",
        "clf31 = clf31.fit(X31_train,y31_train)"
      ],
      "metadata": {
        "id": "6NbfEcvVeWXL"
      },
      "execution_count": null,
      "outputs": []
    },
    {
      "cell_type": "code",
      "source": [
        "y31_pred = clf31.predict(X31_test)"
      ],
      "metadata": {
        "id": "VSBsd9ecedDk"
      },
      "execution_count": null,
      "outputs": []
    },
    {
      "cell_type": "code",
      "source": [
        "print(\"Training Accuracy:\",clf31.score(X31_train, y31_train))"
      ],
      "metadata": {
        "colab": {
          "base_uri": "https://localhost:8080/"
        },
        "id": "IVOGTyaum2WC",
        "outputId": "53ac9505-ca28-48f7-b9e9-bc5e69470fbf"
      },
      "execution_count": null,
      "outputs": [
        {
          "output_type": "stream",
          "name": "stdout",
          "text": [
            "Training Accuracy: 1.0\n"
          ]
        }
      ]
    },
    {
      "cell_type": "code",
      "source": [
        "print(\"Testing Accuracy:\",metrics.accuracy_score(y31_test, y31_pred))"
      ],
      "metadata": {
        "colab": {
          "base_uri": "https://localhost:8080/"
        },
        "id": "VvvbdTZbm9nD",
        "outputId": "fd03bffc-0e15-4cad-eb36-191d80d446d4"
      },
      "execution_count": null,
      "outputs": [
        {
          "output_type": "stream",
          "name": "stdout",
          "text": [
            "Testing Accuracy: 1.0\n"
          ]
        }
      ]
    },
    {
      "cell_type": "markdown",
      "source": [
        "PLACEMENT DATA\n"
      ],
      "metadata": {
        "id": "aceH-E3PniMu"
      }
    },
    {
      "cell_type": "code",
      "source": [
        "df4=pd.read_csv(\"/content/placementdata.csv\")\n",
        "df4.head()"
      ],
      "metadata": {
        "colab": {
          "base_uri": "https://localhost:8080/",
          "height": 226
        },
        "id": "iLU3frDlnG0g",
        "outputId": "06227615-faf7-440c-9099-c14d25e8e362"
      },
      "execution_count": null,
      "outputs": [
        {
          "output_type": "execute_result",
          "data": {
            "text/plain": [
              "   StudentID  CGPA  Internships  Projects  Workshops/Certifications  \\\n",
              "0          1   7.5            1         1                         1   \n",
              "1          2   8.9            0         3                         2   \n",
              "2          3   7.3            1         2                         2   \n",
              "3          4   7.5            1         1                         2   \n",
              "4          5   8.3            1         2                         2   \n",
              "\n",
              "   AptitudeTestScore  SoftSkillsRating ExtracurricularActivities  \\\n",
              "0                 65               4.4                        No   \n",
              "1                 90               4.0                       Yes   \n",
              "2                 82               4.8                       Yes   \n",
              "3                 85               4.4                       Yes   \n",
              "4                 86               4.5                       Yes   \n",
              "\n",
              "  PlacementTraining  SSC_Marks  HSC_Marks PlacementStatus  \n",
              "0                No         61         79       NotPlaced  \n",
              "1               Yes         78         82          Placed  \n",
              "2                No         79         80       NotPlaced  \n",
              "3               Yes         81         80          Placed  \n",
              "4               Yes         74         88          Placed  "
            ],
            "text/html": [
              "\n",
              "  <div id=\"df-16ed8731-e6f2-4255-8c9a-97a108b82853\" class=\"colab-df-container\">\n",
              "    <div>\n",
              "<style scoped>\n",
              "    .dataframe tbody tr th:only-of-type {\n",
              "        vertical-align: middle;\n",
              "    }\n",
              "\n",
              "    .dataframe tbody tr th {\n",
              "        vertical-align: top;\n",
              "    }\n",
              "\n",
              "    .dataframe thead th {\n",
              "        text-align: right;\n",
              "    }\n",
              "</style>\n",
              "<table border=\"1\" class=\"dataframe\">\n",
              "  <thead>\n",
              "    <tr style=\"text-align: right;\">\n",
              "      <th></th>\n",
              "      <th>StudentID</th>\n",
              "      <th>CGPA</th>\n",
              "      <th>Internships</th>\n",
              "      <th>Projects</th>\n",
              "      <th>Workshops/Certifications</th>\n",
              "      <th>AptitudeTestScore</th>\n",
              "      <th>SoftSkillsRating</th>\n",
              "      <th>ExtracurricularActivities</th>\n",
              "      <th>PlacementTraining</th>\n",
              "      <th>SSC_Marks</th>\n",
              "      <th>HSC_Marks</th>\n",
              "      <th>PlacementStatus</th>\n",
              "    </tr>\n",
              "  </thead>\n",
              "  <tbody>\n",
              "    <tr>\n",
              "      <th>0</th>\n",
              "      <td>1</td>\n",
              "      <td>7.5</td>\n",
              "      <td>1</td>\n",
              "      <td>1</td>\n",
              "      <td>1</td>\n",
              "      <td>65</td>\n",
              "      <td>4.4</td>\n",
              "      <td>No</td>\n",
              "      <td>No</td>\n",
              "      <td>61</td>\n",
              "      <td>79</td>\n",
              "      <td>NotPlaced</td>\n",
              "    </tr>\n",
              "    <tr>\n",
              "      <th>1</th>\n",
              "      <td>2</td>\n",
              "      <td>8.9</td>\n",
              "      <td>0</td>\n",
              "      <td>3</td>\n",
              "      <td>2</td>\n",
              "      <td>90</td>\n",
              "      <td>4.0</td>\n",
              "      <td>Yes</td>\n",
              "      <td>Yes</td>\n",
              "      <td>78</td>\n",
              "      <td>82</td>\n",
              "      <td>Placed</td>\n",
              "    </tr>\n",
              "    <tr>\n",
              "      <th>2</th>\n",
              "      <td>3</td>\n",
              "      <td>7.3</td>\n",
              "      <td>1</td>\n",
              "      <td>2</td>\n",
              "      <td>2</td>\n",
              "      <td>82</td>\n",
              "      <td>4.8</td>\n",
              "      <td>Yes</td>\n",
              "      <td>No</td>\n",
              "      <td>79</td>\n",
              "      <td>80</td>\n",
              "      <td>NotPlaced</td>\n",
              "    </tr>\n",
              "    <tr>\n",
              "      <th>3</th>\n",
              "      <td>4</td>\n",
              "      <td>7.5</td>\n",
              "      <td>1</td>\n",
              "      <td>1</td>\n",
              "      <td>2</td>\n",
              "      <td>85</td>\n",
              "      <td>4.4</td>\n",
              "      <td>Yes</td>\n",
              "      <td>Yes</td>\n",
              "      <td>81</td>\n",
              "      <td>80</td>\n",
              "      <td>Placed</td>\n",
              "    </tr>\n",
              "    <tr>\n",
              "      <th>4</th>\n",
              "      <td>5</td>\n",
              "      <td>8.3</td>\n",
              "      <td>1</td>\n",
              "      <td>2</td>\n",
              "      <td>2</td>\n",
              "      <td>86</td>\n",
              "      <td>4.5</td>\n",
              "      <td>Yes</td>\n",
              "      <td>Yes</td>\n",
              "      <td>74</td>\n",
              "      <td>88</td>\n",
              "      <td>Placed</td>\n",
              "    </tr>\n",
              "  </tbody>\n",
              "</table>\n",
              "</div>\n",
              "    <div class=\"colab-df-buttons\">\n",
              "\n",
              "  <div class=\"colab-df-container\">\n",
              "    <button class=\"colab-df-convert\" onclick=\"convertToInteractive('df-16ed8731-e6f2-4255-8c9a-97a108b82853')\"\n",
              "            title=\"Convert this dataframe to an interactive table.\"\n",
              "            style=\"display:none;\">\n",
              "\n",
              "  <svg xmlns=\"http://www.w3.org/2000/svg\" height=\"24px\" viewBox=\"0 -960 960 960\">\n",
              "    <path d=\"M120-120v-720h720v720H120Zm60-500h600v-160H180v160Zm220 220h160v-160H400v160Zm0 220h160v-160H400v160ZM180-400h160v-160H180v160Zm440 0h160v-160H620v160ZM180-180h160v-160H180v160Zm440 0h160v-160H620v160Z\"/>\n",
              "  </svg>\n",
              "    </button>\n",
              "\n",
              "  <style>\n",
              "    .colab-df-container {\n",
              "      display:flex;\n",
              "      gap: 12px;\n",
              "    }\n",
              "\n",
              "    .colab-df-convert {\n",
              "      background-color: #E8F0FE;\n",
              "      border: none;\n",
              "      border-radius: 50%;\n",
              "      cursor: pointer;\n",
              "      display: none;\n",
              "      fill: #1967D2;\n",
              "      height: 32px;\n",
              "      padding: 0 0 0 0;\n",
              "      width: 32px;\n",
              "    }\n",
              "\n",
              "    .colab-df-convert:hover {\n",
              "      background-color: #E2EBFA;\n",
              "      box-shadow: 0px 1px 2px rgba(60, 64, 67, 0.3), 0px 1px 3px 1px rgba(60, 64, 67, 0.15);\n",
              "      fill: #174EA6;\n",
              "    }\n",
              "\n",
              "    .colab-df-buttons div {\n",
              "      margin-bottom: 4px;\n",
              "    }\n",
              "\n",
              "    [theme=dark] .colab-df-convert {\n",
              "      background-color: #3B4455;\n",
              "      fill: #D2E3FC;\n",
              "    }\n",
              "\n",
              "    [theme=dark] .colab-df-convert:hover {\n",
              "      background-color: #434B5C;\n",
              "      box-shadow: 0px 1px 3px 1px rgba(0, 0, 0, 0.15);\n",
              "      filter: drop-shadow(0px 1px 2px rgba(0, 0, 0, 0.3));\n",
              "      fill: #FFFFFF;\n",
              "    }\n",
              "  </style>\n",
              "\n",
              "    <script>\n",
              "      const buttonEl =\n",
              "        document.querySelector('#df-16ed8731-e6f2-4255-8c9a-97a108b82853 button.colab-df-convert');\n",
              "      buttonEl.style.display =\n",
              "        google.colab.kernel.accessAllowed ? 'block' : 'none';\n",
              "\n",
              "      async function convertToInteractive(key) {\n",
              "        const element = document.querySelector('#df-16ed8731-e6f2-4255-8c9a-97a108b82853');\n",
              "        const dataTable =\n",
              "          await google.colab.kernel.invokeFunction('convertToInteractive',\n",
              "                                                    [key], {});\n",
              "        if (!dataTable) return;\n",
              "\n",
              "        const docLinkHtml = 'Like what you see? Visit the ' +\n",
              "          '<a target=\"_blank\" href=https://colab.research.google.com/notebooks/data_table.ipynb>data table notebook</a>'\n",
              "          + ' to learn more about interactive tables.';\n",
              "        element.innerHTML = '';\n",
              "        dataTable['output_type'] = 'display_data';\n",
              "        await google.colab.output.renderOutput(dataTable, element);\n",
              "        const docLink = document.createElement('div');\n",
              "        docLink.innerHTML = docLinkHtml;\n",
              "        element.appendChild(docLink);\n",
              "      }\n",
              "    </script>\n",
              "  </div>\n",
              "\n",
              "\n",
              "<div id=\"df-4f9f76e3-d731-4326-b619-9f27f9910616\">\n",
              "  <button class=\"colab-df-quickchart\" onclick=\"quickchart('df-4f9f76e3-d731-4326-b619-9f27f9910616')\"\n",
              "            title=\"Suggest charts\"\n",
              "            style=\"display:none;\">\n",
              "\n",
              "<svg xmlns=\"http://www.w3.org/2000/svg\" height=\"24px\"viewBox=\"0 0 24 24\"\n",
              "     width=\"24px\">\n",
              "    <g>\n",
              "        <path d=\"M19 3H5c-1.1 0-2 .9-2 2v14c0 1.1.9 2 2 2h14c1.1 0 2-.9 2-2V5c0-1.1-.9-2-2-2zM9 17H7v-7h2v7zm4 0h-2V7h2v10zm4 0h-2v-4h2v4z\"/>\n",
              "    </g>\n",
              "</svg>\n",
              "  </button>\n",
              "\n",
              "<style>\n",
              "  .colab-df-quickchart {\n",
              "      --bg-color: #E8F0FE;\n",
              "      --fill-color: #1967D2;\n",
              "      --hover-bg-color: #E2EBFA;\n",
              "      --hover-fill-color: #174EA6;\n",
              "      --disabled-fill-color: #AAA;\n",
              "      --disabled-bg-color: #DDD;\n",
              "  }\n",
              "\n",
              "  [theme=dark] .colab-df-quickchart {\n",
              "      --bg-color: #3B4455;\n",
              "      --fill-color: #D2E3FC;\n",
              "      --hover-bg-color: #434B5C;\n",
              "      --hover-fill-color: #FFFFFF;\n",
              "      --disabled-bg-color: #3B4455;\n",
              "      --disabled-fill-color: #666;\n",
              "  }\n",
              "\n",
              "  .colab-df-quickchart {\n",
              "    background-color: var(--bg-color);\n",
              "    border: none;\n",
              "    border-radius: 50%;\n",
              "    cursor: pointer;\n",
              "    display: none;\n",
              "    fill: var(--fill-color);\n",
              "    height: 32px;\n",
              "    padding: 0;\n",
              "    width: 32px;\n",
              "  }\n",
              "\n",
              "  .colab-df-quickchart:hover {\n",
              "    background-color: var(--hover-bg-color);\n",
              "    box-shadow: 0 1px 2px rgba(60, 64, 67, 0.3), 0 1px 3px 1px rgba(60, 64, 67, 0.15);\n",
              "    fill: var(--button-hover-fill-color);\n",
              "  }\n",
              "\n",
              "  .colab-df-quickchart-complete:disabled,\n",
              "  .colab-df-quickchart-complete:disabled:hover {\n",
              "    background-color: var(--disabled-bg-color);\n",
              "    fill: var(--disabled-fill-color);\n",
              "    box-shadow: none;\n",
              "  }\n",
              "\n",
              "  .colab-df-spinner {\n",
              "    border: 2px solid var(--fill-color);\n",
              "    border-color: transparent;\n",
              "    border-bottom-color: var(--fill-color);\n",
              "    animation:\n",
              "      spin 1s steps(1) infinite;\n",
              "  }\n",
              "\n",
              "  @keyframes spin {\n",
              "    0% {\n",
              "      border-color: transparent;\n",
              "      border-bottom-color: var(--fill-color);\n",
              "      border-left-color: var(--fill-color);\n",
              "    }\n",
              "    20% {\n",
              "      border-color: transparent;\n",
              "      border-left-color: var(--fill-color);\n",
              "      border-top-color: var(--fill-color);\n",
              "    }\n",
              "    30% {\n",
              "      border-color: transparent;\n",
              "      border-left-color: var(--fill-color);\n",
              "      border-top-color: var(--fill-color);\n",
              "      border-right-color: var(--fill-color);\n",
              "    }\n",
              "    40% {\n",
              "      border-color: transparent;\n",
              "      border-right-color: var(--fill-color);\n",
              "      border-top-color: var(--fill-color);\n",
              "    }\n",
              "    60% {\n",
              "      border-color: transparent;\n",
              "      border-right-color: var(--fill-color);\n",
              "    }\n",
              "    80% {\n",
              "      border-color: transparent;\n",
              "      border-right-color: var(--fill-color);\n",
              "      border-bottom-color: var(--fill-color);\n",
              "    }\n",
              "    90% {\n",
              "      border-color: transparent;\n",
              "      border-bottom-color: var(--fill-color);\n",
              "    }\n",
              "  }\n",
              "</style>\n",
              "\n",
              "  <script>\n",
              "    async function quickchart(key) {\n",
              "      const quickchartButtonEl =\n",
              "        document.querySelector('#' + key + ' button');\n",
              "      quickchartButtonEl.disabled = true;  // To prevent multiple clicks.\n",
              "      quickchartButtonEl.classList.add('colab-df-spinner');\n",
              "      try {\n",
              "        const charts = await google.colab.kernel.invokeFunction(\n",
              "            'suggestCharts', [key], {});\n",
              "      } catch (error) {\n",
              "        console.error('Error during call to suggestCharts:', error);\n",
              "      }\n",
              "      quickchartButtonEl.classList.remove('colab-df-spinner');\n",
              "      quickchartButtonEl.classList.add('colab-df-quickchart-complete');\n",
              "    }\n",
              "    (() => {\n",
              "      let quickchartButtonEl =\n",
              "        document.querySelector('#df-4f9f76e3-d731-4326-b619-9f27f9910616 button');\n",
              "      quickchartButtonEl.style.display =\n",
              "        google.colab.kernel.accessAllowed ? 'block' : 'none';\n",
              "    })();\n",
              "  </script>\n",
              "</div>\n",
              "\n",
              "    </div>\n",
              "  </div>\n"
            ],
            "application/vnd.google.colaboratory.intrinsic+json": {
              "type": "dataframe",
              "variable_name": "df4",
              "summary": "{\n  \"name\": \"df4\",\n  \"rows\": 10000,\n  \"fields\": [\n    {\n      \"column\": \"StudentID\",\n      \"properties\": {\n        \"dtype\": \"number\",\n        \"std\": 2886,\n        \"min\": 1,\n        \"max\": 10000,\n        \"num_unique_values\": 10000,\n        \"samples\": [\n          6253,\n          4685,\n          1732\n        ],\n        \"semantic_type\": \"\",\n        \"description\": \"\"\n      }\n    },\n    {\n      \"column\": \"CGPA\",\n      \"properties\": {\n        \"dtype\": \"number\",\n        \"std\": 0.6401312495900275,\n        \"min\": 6.5,\n        \"max\": 9.1,\n        \"num_unique_values\": 27,\n        \"samples\": [\n          7.9,\n          7.6,\n          7.4\n        ],\n        \"semantic_type\": \"\",\n        \"description\": \"\"\n      }\n    },\n    {\n      \"column\": \"Internships\",\n      \"properties\": {\n        \"dtype\": \"number\",\n        \"std\": 0,\n        \"min\": 0,\n        \"max\": 2,\n        \"num_unique_values\": 3,\n        \"samples\": [\n          1,\n          0,\n          2\n        ],\n        \"semantic_type\": \"\",\n        \"description\": \"\"\n      }\n    },\n    {\n      \"column\": \"Projects\",\n      \"properties\": {\n        \"dtype\": \"number\",\n        \"std\": 0,\n        \"min\": 0,\n        \"max\": 3,\n        \"num_unique_values\": 4,\n        \"samples\": [\n          3,\n          0,\n          1\n        ],\n        \"semantic_type\": \"\",\n        \"description\": \"\"\n      }\n    },\n    {\n      \"column\": \"Workshops/Certifications\",\n      \"properties\": {\n        \"dtype\": \"number\",\n        \"std\": 0,\n        \"min\": 0,\n        \"max\": 3,\n        \"num_unique_values\": 4,\n        \"samples\": [\n          2,\n          3,\n          1\n        ],\n        \"semantic_type\": \"\",\n        \"description\": \"\"\n      }\n    },\n    {\n      \"column\": \"AptitudeTestScore\",\n      \"properties\": {\n        \"dtype\": \"number\",\n        \"std\": 8,\n        \"min\": 60,\n        \"max\": 90,\n        \"num_unique_values\": 31,\n        \"samples\": [\n          69,\n          77,\n          62\n        ],\n        \"semantic_type\": \"\",\n        \"description\": \"\"\n      }\n    },\n    {\n      \"column\": \"SoftSkillsRating\",\n      \"properties\": {\n        \"dtype\": \"number\",\n        \"std\": 0.41162223176862817,\n        \"min\": 3.0,\n        \"max\": 4.8,\n        \"num_unique_values\": 19,\n        \"samples\": [\n          4.4,\n          3.5,\n          3.8\n        ],\n        \"semantic_type\": \"\",\n        \"description\": \"\"\n      }\n    },\n    {\n      \"column\": \"ExtracurricularActivities\",\n      \"properties\": {\n        \"dtype\": \"category\",\n        \"num_unique_values\": 2,\n        \"samples\": [\n          \"Yes\",\n          \"No\"\n        ],\n        \"semantic_type\": \"\",\n        \"description\": \"\"\n      }\n    },\n    {\n      \"column\": \"PlacementTraining\",\n      \"properties\": {\n        \"dtype\": \"category\",\n        \"num_unique_values\": 2,\n        \"samples\": [\n          \"Yes\",\n          \"No\"\n        ],\n        \"semantic_type\": \"\",\n        \"description\": \"\"\n      }\n    },\n    {\n      \"column\": \"SSC_Marks\",\n      \"properties\": {\n        \"dtype\": \"number\",\n        \"std\": 10,\n        \"min\": 55,\n        \"max\": 90,\n        \"num_unique_values\": 36,\n        \"samples\": [\n          89,\n          63\n        ],\n        \"semantic_type\": \"\",\n        \"description\": \"\"\n      }\n    },\n    {\n      \"column\": \"HSC_Marks\",\n      \"properties\": {\n        \"dtype\": \"number\",\n        \"std\": 8,\n        \"min\": 57,\n        \"max\": 88,\n        \"num_unique_values\": 32,\n        \"samples\": [\n          59,\n          69\n        ],\n        \"semantic_type\": \"\",\n        \"description\": \"\"\n      }\n    },\n    {\n      \"column\": \"PlacementStatus\",\n      \"properties\": {\n        \"dtype\": \"category\",\n        \"num_unique_values\": 2,\n        \"samples\": [\n          \"Placed\",\n          \"NotPlaced\"\n        ],\n        \"semantic_type\": \"\",\n        \"description\": \"\"\n      }\n    }\n  ]\n}"
            }
          },
          "metadata": {},
          "execution_count": 159
        }
      ]
    },
    {
      "cell_type": "code",
      "source": [
        "extra_mapping = {'No': 0, 'Yes': 1}\n",
        "df4['ExtracurricularActivities'] = df4['ExtracurricularActivities'].map(extra_mapping)"
      ],
      "metadata": {
        "id": "0EcZAfkKoV-9"
      },
      "execution_count": null,
      "outputs": []
    },
    {
      "cell_type": "code",
      "source": [
        "placementtrain_mapping = {'No': 0, 'Yes': 1}\n",
        "df4['PlacementTraining'] = df4['PlacementTraining'].map(placementtrain_mapping)"
      ],
      "metadata": {
        "id": "k-hFCIS5ojoJ"
      },
      "execution_count": null,
      "outputs": []
    },
    {
      "cell_type": "code",
      "source": [
        "X32 = df4.drop(['StudentID','PlacementStatus'], axis=1)\n",
        "y32 = df4['PlacementStatus']"
      ],
      "metadata": {
        "id": "DW3AW8sknzcI"
      },
      "execution_count": null,
      "outputs": []
    },
    {
      "cell_type": "code",
      "source": [
        "X32_train, X32_test, y32_train, y32_test = train_test_split(X32, y32, test_size=0.3, random_state=42)"
      ],
      "metadata": {
        "id": "_yV1QNAAn9FH"
      },
      "execution_count": null,
      "outputs": []
    },
    {
      "cell_type": "code",
      "source": [
        "clf32 = RandomForestClassifier(n_estimators=100)\n",
        "clf32 = clf32.fit(X32_train,y32_train)"
      ],
      "metadata": {
        "id": "WE--Ia2ioFL0"
      },
      "execution_count": null,
      "outputs": []
    },
    {
      "cell_type": "code",
      "source": [
        "y32_pred = clf32.predict(X32_test)"
      ],
      "metadata": {
        "id": "vwRqWAsRoL2P"
      },
      "execution_count": null,
      "outputs": []
    },
    {
      "cell_type": "code",
      "source": [
        "print(\"Training Accuracy:\",clf32.score(X32_train, y32_train))"
      ],
      "metadata": {
        "colab": {
          "base_uri": "https://localhost:8080/"
        },
        "id": "Dof1nt_SpCTs",
        "outputId": "fbab6840-8236-483d-f13c-4433e5c1ce34"
      },
      "execution_count": null,
      "outputs": [
        {
          "output_type": "stream",
          "name": "stdout",
          "text": [
            "Training Accuracy: 0.9991428571428571\n"
          ]
        }
      ]
    },
    {
      "cell_type": "code",
      "source": [
        "print(\"Testing Accuracy:\",metrics.accuracy_score(y32_test, y32_pred))"
      ],
      "metadata": {
        "colab": {
          "base_uri": "https://localhost:8080/"
        },
        "id": "wvWasgc8pIWE",
        "outputId": "b0c167a3-10c7-4716-fe52-608e8a5b528c"
      },
      "execution_count": null,
      "outputs": [
        {
          "output_type": "stream",
          "name": "stdout",
          "text": [
            "Testing Accuracy: 0.778\n"
          ]
        }
      ]
    },
    {
      "cell_type": "markdown",
      "source": [
        "#Random forest n estimators w feature importance"
      ],
      "metadata": {
        "id": "b8xRRrMUpY6k"
      }
    },
    {
      "cell_type": "code",
      "source": [
        "imp3=pd.Series(clf31.feature_importances_)\n",
        "imp3"
      ],
      "metadata": {
        "colab": {
          "base_uri": "https://localhost:8080/",
          "height": 209
        },
        "id": "N0ZXPIuepL1h",
        "outputId": "03a37507-aac6-4f1a-d8a1-d5f442f566cb"
      },
      "execution_count": null,
      "outputs": [
        {
          "output_type": "execute_result",
          "data": {
            "text/plain": [
              "0    0.097521\n",
              "1    0.036684\n",
              "2    0.466567\n",
              "3    0.399228\n",
              "dtype: float64"
            ],
            "text/html": [
              "<div>\n",
              "<style scoped>\n",
              "    .dataframe tbody tr th:only-of-type {\n",
              "        vertical-align: middle;\n",
              "    }\n",
              "\n",
              "    .dataframe tbody tr th {\n",
              "        vertical-align: top;\n",
              "    }\n",
              "\n",
              "    .dataframe thead th {\n",
              "        text-align: right;\n",
              "    }\n",
              "</style>\n",
              "<table border=\"1\" class=\"dataframe\">\n",
              "  <thead>\n",
              "    <tr style=\"text-align: right;\">\n",
              "      <th></th>\n",
              "      <th>0</th>\n",
              "    </tr>\n",
              "  </thead>\n",
              "  <tbody>\n",
              "    <tr>\n",
              "      <th>0</th>\n",
              "      <td>0.097521</td>\n",
              "    </tr>\n",
              "    <tr>\n",
              "      <th>1</th>\n",
              "      <td>0.036684</td>\n",
              "    </tr>\n",
              "    <tr>\n",
              "      <th>2</th>\n",
              "      <td>0.466567</td>\n",
              "    </tr>\n",
              "    <tr>\n",
              "      <th>3</th>\n",
              "      <td>0.399228</td>\n",
              "    </tr>\n",
              "  </tbody>\n",
              "</table>\n",
              "</div><br><label><b>dtype:</b> float64</label>"
            ]
          },
          "metadata": {},
          "execution_count": 194
        }
      ]
    },
    {
      "cell_type": "code",
      "source": [
        "df3.drop(columns=['SepalWidthCm'],axis=1,inplace=True)"
      ],
      "metadata": {
        "id": "nQdeeWAvsE6R"
      },
      "execution_count": null,
      "outputs": []
    },
    {
      "cell_type": "code",
      "source": [
        "X41 = df1.drop('Species', axis=1)\n",
        "y41 = df1['Species']"
      ],
      "metadata": {
        "id": "1Epy-48OvQuA"
      },
      "execution_count": null,
      "outputs": []
    },
    {
      "cell_type": "code",
      "source": [
        "X41_train, X41_test, y41_train, y41_test = train_test_split(X41, y41, test_size=0.3, random_state=42)"
      ],
      "metadata": {
        "id": "2_HN6pg8vXVv"
      },
      "execution_count": null,
      "outputs": []
    },
    {
      "cell_type": "code",
      "source": [
        "clf41 = RandomForestClassifier(n_estimators=100)\n",
        "clf41 = clf41.fit(X41_train,y41_train)"
      ],
      "metadata": {
        "id": "GT5tesNBvekb"
      },
      "execution_count": null,
      "outputs": []
    },
    {
      "cell_type": "code",
      "source": [
        "y41_pred = clf41.predict(X41_test)"
      ],
      "metadata": {
        "id": "4JHRqruyvqxF"
      },
      "execution_count": null,
      "outputs": []
    },
    {
      "cell_type": "code",
      "source": [
        "print(\"Training Accuracy:\",clf41.score(X41_train, y41_train))"
      ],
      "metadata": {
        "colab": {
          "base_uri": "https://localhost:8080/"
        },
        "id": "Dr2956EOvzUv",
        "outputId": "d16d25a1-423a-43ae-e0cc-b272e60309ce"
      },
      "execution_count": null,
      "outputs": [
        {
          "output_type": "stream",
          "name": "stdout",
          "text": [
            "Training Accuracy: 1.0\n"
          ]
        }
      ]
    },
    {
      "cell_type": "code",
      "source": [
        "print(\"Testing Accuracy:\",metrics.accuracy_score(y41_test, y41_pred))"
      ],
      "metadata": {
        "colab": {
          "base_uri": "https://localhost:8080/"
        },
        "id": "5RHnuUfhv6_d",
        "outputId": "0b8c003c-2def-4114-d3f5-f5b9ea28b4d0"
      },
      "execution_count": null,
      "outputs": [
        {
          "output_type": "stream",
          "name": "stdout",
          "text": [
            "Testing Accuracy: 1.0\n"
          ]
        }
      ]
    },
    {
      "cell_type": "markdown",
      "source": [
        "PLACEMENT DATA"
      ],
      "metadata": {
        "id": "oYxZILR7v_vp"
      }
    },
    {
      "cell_type": "code",
      "source": [
        "imp4=pd.Series(clf32.feature_importances_)\n",
        "imp4"
      ],
      "metadata": {
        "colab": {
          "base_uri": "https://localhost:8080/",
          "height": 397
        },
        "id": "WLROqhR5v_Aq",
        "outputId": "8094df8c-7042-41f0-e23a-999d557d3ad5"
      },
      "execution_count": null,
      "outputs": [
        {
          "output_type": "execute_result",
          "data": {
            "text/plain": [
              "0    0.113533\n",
              "1    0.033594\n",
              "2    0.092413\n",
              "3    0.059657\n",
              "4    0.165196\n",
              "5    0.093808\n",
              "6    0.065410\n",
              "7    0.024921\n",
              "8    0.133023\n",
              "9    0.218444\n",
              "dtype: float64"
            ],
            "text/html": [
              "<div>\n",
              "<style scoped>\n",
              "    .dataframe tbody tr th:only-of-type {\n",
              "        vertical-align: middle;\n",
              "    }\n",
              "\n",
              "    .dataframe tbody tr th {\n",
              "        vertical-align: top;\n",
              "    }\n",
              "\n",
              "    .dataframe thead th {\n",
              "        text-align: right;\n",
              "    }\n",
              "</style>\n",
              "<table border=\"1\" class=\"dataframe\">\n",
              "  <thead>\n",
              "    <tr style=\"text-align: right;\">\n",
              "      <th></th>\n",
              "      <th>0</th>\n",
              "    </tr>\n",
              "  </thead>\n",
              "  <tbody>\n",
              "    <tr>\n",
              "      <th>0</th>\n",
              "      <td>0.113533</td>\n",
              "    </tr>\n",
              "    <tr>\n",
              "      <th>1</th>\n",
              "      <td>0.033594</td>\n",
              "    </tr>\n",
              "    <tr>\n",
              "      <th>2</th>\n",
              "      <td>0.092413</td>\n",
              "    </tr>\n",
              "    <tr>\n",
              "      <th>3</th>\n",
              "      <td>0.059657</td>\n",
              "    </tr>\n",
              "    <tr>\n",
              "      <th>4</th>\n",
              "      <td>0.165196</td>\n",
              "    </tr>\n",
              "    <tr>\n",
              "      <th>5</th>\n",
              "      <td>0.093808</td>\n",
              "    </tr>\n",
              "    <tr>\n",
              "      <th>6</th>\n",
              "      <td>0.065410</td>\n",
              "    </tr>\n",
              "    <tr>\n",
              "      <th>7</th>\n",
              "      <td>0.024921</td>\n",
              "    </tr>\n",
              "    <tr>\n",
              "      <th>8</th>\n",
              "      <td>0.133023</td>\n",
              "    </tr>\n",
              "    <tr>\n",
              "      <th>9</th>\n",
              "      <td>0.218444</td>\n",
              "    </tr>\n",
              "  </tbody>\n",
              "</table>\n",
              "</div><br><label><b>dtype:</b> float64</label>"
            ]
          },
          "metadata": {},
          "execution_count": 195
        }
      ]
    },
    {
      "cell_type": "code",
      "source": [
        "df4.drop(columns=['Internships','PlacementTraining'],axis=1,inplace=True)"
      ],
      "metadata": {
        "id": "mEBy5IsTwMxS"
      },
      "execution_count": null,
      "outputs": []
    },
    {
      "cell_type": "code",
      "source": [
        "X42 = df4.drop('PlacementStatus', axis=1)\n",
        "y42 = df4['PlacementStatus']"
      ],
      "metadata": {
        "id": "0LcPzZ13xD9O"
      },
      "execution_count": null,
      "outputs": []
    },
    {
      "cell_type": "code",
      "source": [
        "X42_train, X42_test, y42_train, y42_test = train_test_split(X42, y42, test_size=0.3, random_state=42)"
      ],
      "metadata": {
        "id": "QX0Sn55JxONy"
      },
      "execution_count": null,
      "outputs": []
    },
    {
      "cell_type": "code",
      "source": [
        "clf42 = RandomForestClassifier(n_estimators=100)\n",
        "clf42 = clf42.fit(X42_train,y42_train)"
      ],
      "metadata": {
        "id": "QITMNgG0xWfz"
      },
      "execution_count": null,
      "outputs": []
    },
    {
      "cell_type": "code",
      "source": [
        "y42_pred = clf42.predict(X42_test)"
      ],
      "metadata": {
        "id": "L-uRExWlxeAF"
      },
      "execution_count": null,
      "outputs": []
    },
    {
      "cell_type": "code",
      "source": [
        "print(\"Training Accuracy:\",clf42.score(X42_train, y42_train))"
      ],
      "metadata": {
        "colab": {
          "base_uri": "https://localhost:8080/"
        },
        "id": "fbdAvkshxjIS",
        "outputId": "04692a66-dbc2-4d4b-81f4-a6b75f8ca04e"
      },
      "execution_count": null,
      "outputs": [
        {
          "output_type": "stream",
          "name": "stdout",
          "text": [
            "Training Accuracy: 1.0\n"
          ]
        }
      ]
    },
    {
      "cell_type": "code",
      "source": [
        "print(\"Testing Accuracy:\",metrics.accuracy_score(y42_test, y42_pred))"
      ],
      "metadata": {
        "colab": {
          "base_uri": "https://localhost:8080/"
        },
        "id": "dJdQ5BIjxnhZ",
        "outputId": "32a1a562-b9ad-488e-b7f1-d84e1d40de98"
      },
      "execution_count": null,
      "outputs": [
        {
          "output_type": "stream",
          "name": "stdout",
          "text": [
            "Testing Accuracy: 0.778\n"
          ]
        }
      ]
    },
    {
      "cell_type": "markdown",
      "source": [
        "![ml 5 acc data .png](data:image/png;base64,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)"
      ],
      "metadata": {
        "id": "wVHOV16Qzp5Y"
      }
    }
  ]
}